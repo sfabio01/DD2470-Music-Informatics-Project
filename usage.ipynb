{
 "cells": [
  {
   "cell_type": "markdown",
   "metadata": {},
   "source": [
    "# [FMA: A Dataset For Music Analysis](https://github.com/mdeff/fma)\n",
    "\n",
    "Michaël Defferrard, Kirell Benzi, Pierre Vandergheynst, Xavier Bresson, EPFL LTS2.\n",
    "\n",
    "## Usage\n",
    "\n",
    "1. Go through the [paper] to understand what the data is about.\n",
    "1. Download some datasets from <https://github.com/mdeff/fma>.\n",
    "1. Uncompress the archives, e.g. with `unzip fma_small.zip`.\n",
    "1. Load and play with the data in this notebook.\n",
    "\n",
    "[paper]: https://arxiv.org/abs/1612.01840"
   ]
  },
  {
   "cell_type": "code",
   "execution_count": 11,
   "metadata": {},
   "outputs": [],
   "source": [
    "%matplotlib inline\n",
    "\n",
    "import os\n",
    "import json\n",
    "\n",
    "import IPython.display as ipd\n",
    "import numpy as np\n",
    "import pandas as pd\n",
    "import matplotlib.pyplot as plt\n",
    "import seaborn as sns\n",
    "import sklearn as skl\n",
    "import sklearn.utils, sklearn.preprocessing, sklearn.decomposition, sklearn.svm\n",
    "\n",
    "import utils\n",
    "\n",
    "plt.rcParams['figure.figsize'] = (17, 5)"
   ]
  },
  {
   "cell_type": "code",
   "execution_count": 2,
   "metadata": {},
   "outputs": [
    {
     "data": {
      "text/plain": [
       "(106574, 52)"
      ]
     },
     "execution_count": 2,
     "metadata": {},
     "output_type": "execute_result"
    }
   ],
   "source": [
    "# Directory where mp3 are stored.\n",
    "AUDIO_DIR = os.environ.get('AUDIO_DIR')\n",
    "\n",
    "# Load metadata and features.\n",
    "tracks = utils.load('fma_metadata/tracks.csv')\n",
    "# genres = utils.load('fma_metadata/genres.csv')\n",
    "# features = utils.load('fma_metadata/features.csv')\n",
    "# echonest = utils.load('fma_metadata/echonest.csv')\n",
    "\n",
    "tracks.shape"
   ]
  },
  {
   "cell_type": "markdown",
   "metadata": {},
   "source": [
    "## 1 Metadata\n",
    "\n",
    "The metadata table, a CSV file in the `fma_metadata.zip` archive, is composed of many colums:\n",
    "1. The index is the ID of the song, taken from the website, used as the name of the audio file.\n",
    "2. Per-track, per-album and per-artist metadata from the Free Music Archive website.\n",
    "3. Two columns to indicate the subset (small, medium, large) and the split (training, validation, test)."
   ]
  },
  {
   "cell_type": "code",
   "execution_count": 3,
   "metadata": {},
   "outputs": [
    {
     "data": {
      "text/html": [
       "<div>\n",
       "<style scoped>\n",
       "    .dataframe tbody tr th:only-of-type {\n",
       "        vertical-align: middle;\n",
       "    }\n",
       "\n",
       "    .dataframe tbody tr th {\n",
       "        vertical-align: top;\n",
       "    }\n",
       "\n",
       "    .dataframe thead th {\n",
       "        text-align: right;\n",
       "    }\n",
       "</style>\n",
       "<table border=\"1\" class=\"dataframe\">\n",
       "  <thead>\n",
       "    <tr style=\"text-align: right;\">\n",
       "      <th></th>\n",
       "      <th>bit_rate</th>\n",
       "      <th>comments</th>\n",
       "      <th>composer</th>\n",
       "      <th>date_created</th>\n",
       "      <th>date_recorded</th>\n",
       "      <th>duration</th>\n",
       "      <th>favorites</th>\n",
       "      <th>genre_top</th>\n",
       "      <th>genres</th>\n",
       "      <th>genres_all</th>\n",
       "      <th>information</th>\n",
       "      <th>interest</th>\n",
       "      <th>language_code</th>\n",
       "      <th>license</th>\n",
       "      <th>listens</th>\n",
       "      <th>lyricist</th>\n",
       "      <th>number</th>\n",
       "      <th>publisher</th>\n",
       "      <th>tags</th>\n",
       "      <th>title</th>\n",
       "    </tr>\n",
       "    <tr>\n",
       "      <th>track_id</th>\n",
       "      <th></th>\n",
       "      <th></th>\n",
       "      <th></th>\n",
       "      <th></th>\n",
       "      <th></th>\n",
       "      <th></th>\n",
       "      <th></th>\n",
       "      <th></th>\n",
       "      <th></th>\n",
       "      <th></th>\n",
       "      <th></th>\n",
       "      <th></th>\n",
       "      <th></th>\n",
       "      <th></th>\n",
       "      <th></th>\n",
       "      <th></th>\n",
       "      <th></th>\n",
       "      <th></th>\n",
       "      <th></th>\n",
       "      <th></th>\n",
       "    </tr>\n",
       "  </thead>\n",
       "  <tbody>\n",
       "    <tr>\n",
       "      <th>2</th>\n",
       "      <td>256000</td>\n",
       "      <td>0</td>\n",
       "      <td>NaN</td>\n",
       "      <td>2008-11-26 01:48:12</td>\n",
       "      <td>2008-11-26</td>\n",
       "      <td>168</td>\n",
       "      <td>2</td>\n",
       "      <td>Hip-Hop</td>\n",
       "      <td>[21]</td>\n",
       "      <td>[21]</td>\n",
       "      <td>NaN</td>\n",
       "      <td>4656</td>\n",
       "      <td>en</td>\n",
       "      <td>Attribution-NonCommercial-ShareAlike 3.0 Inter...</td>\n",
       "      <td>1293</td>\n",
       "      <td>NaN</td>\n",
       "      <td>3</td>\n",
       "      <td>NaN</td>\n",
       "      <td>[]</td>\n",
       "      <td>Food</td>\n",
       "    </tr>\n",
       "    <tr>\n",
       "      <th>3</th>\n",
       "      <td>256000</td>\n",
       "      <td>0</td>\n",
       "      <td>NaN</td>\n",
       "      <td>2008-11-26 01:48:14</td>\n",
       "      <td>2008-11-26</td>\n",
       "      <td>237</td>\n",
       "      <td>1</td>\n",
       "      <td>Hip-Hop</td>\n",
       "      <td>[21]</td>\n",
       "      <td>[21]</td>\n",
       "      <td>NaN</td>\n",
       "      <td>1470</td>\n",
       "      <td>en</td>\n",
       "      <td>Attribution-NonCommercial-ShareAlike 3.0 Inter...</td>\n",
       "      <td>514</td>\n",
       "      <td>NaN</td>\n",
       "      <td>4</td>\n",
       "      <td>NaN</td>\n",
       "      <td>[]</td>\n",
       "      <td>Electric Ave</td>\n",
       "    </tr>\n",
       "    <tr>\n",
       "      <th>5</th>\n",
       "      <td>256000</td>\n",
       "      <td>0</td>\n",
       "      <td>NaN</td>\n",
       "      <td>2008-11-26 01:48:20</td>\n",
       "      <td>2008-11-26</td>\n",
       "      <td>206</td>\n",
       "      <td>6</td>\n",
       "      <td>Hip-Hop</td>\n",
       "      <td>[21]</td>\n",
       "      <td>[21]</td>\n",
       "      <td>NaN</td>\n",
       "      <td>1933</td>\n",
       "      <td>en</td>\n",
       "      <td>Attribution-NonCommercial-ShareAlike 3.0 Inter...</td>\n",
       "      <td>1151</td>\n",
       "      <td>NaN</td>\n",
       "      <td>6</td>\n",
       "      <td>NaN</td>\n",
       "      <td>[]</td>\n",
       "      <td>This World</td>\n",
       "    </tr>\n",
       "    <tr>\n",
       "      <th>10</th>\n",
       "      <td>192000</td>\n",
       "      <td>0</td>\n",
       "      <td>Kurt Vile</td>\n",
       "      <td>2008-11-25 17:49:06</td>\n",
       "      <td>2008-11-26</td>\n",
       "      <td>161</td>\n",
       "      <td>178</td>\n",
       "      <td>Pop</td>\n",
       "      <td>[10]</td>\n",
       "      <td>[10]</td>\n",
       "      <td>NaN</td>\n",
       "      <td>54881</td>\n",
       "      <td>en</td>\n",
       "      <td>Attribution-NonCommercial-NoDerivatives (aka M...</td>\n",
       "      <td>50135</td>\n",
       "      <td>NaN</td>\n",
       "      <td>1</td>\n",
       "      <td>NaN</td>\n",
       "      <td>[]</td>\n",
       "      <td>Freeway</td>\n",
       "    </tr>\n",
       "    <tr>\n",
       "      <th>20</th>\n",
       "      <td>256000</td>\n",
       "      <td>0</td>\n",
       "      <td>NaN</td>\n",
       "      <td>2008-11-26 01:48:56</td>\n",
       "      <td>2008-01-01</td>\n",
       "      <td>311</td>\n",
       "      <td>0</td>\n",
       "      <td>NaN</td>\n",
       "      <td>[76, 103]</td>\n",
       "      <td>[17, 10, 76, 103]</td>\n",
       "      <td>NaN</td>\n",
       "      <td>978</td>\n",
       "      <td>en</td>\n",
       "      <td>Attribution-NonCommercial-NoDerivatives (aka M...</td>\n",
       "      <td>361</td>\n",
       "      <td>NaN</td>\n",
       "      <td>3</td>\n",
       "      <td>NaN</td>\n",
       "      <td>[]</td>\n",
       "      <td>Spiritual Level</td>\n",
       "    </tr>\n",
       "  </tbody>\n",
       "</table>\n",
       "</div>"
      ],
      "text/plain": [
       "          bit_rate  comments   composer        date_created date_recorded  \\\n",
       "track_id                                                                    \n",
       "2           256000         0        NaN 2008-11-26 01:48:12    2008-11-26   \n",
       "3           256000         0        NaN 2008-11-26 01:48:14    2008-11-26   \n",
       "5           256000         0        NaN 2008-11-26 01:48:20    2008-11-26   \n",
       "10          192000         0  Kurt Vile 2008-11-25 17:49:06    2008-11-26   \n",
       "20          256000         0        NaN 2008-11-26 01:48:56    2008-01-01   \n",
       "\n",
       "          duration  favorites genre_top     genres         genres_all  \\\n",
       "track_id                                                                \n",
       "2              168          2   Hip-Hop       [21]               [21]   \n",
       "3              237          1   Hip-Hop       [21]               [21]   \n",
       "5              206          6   Hip-Hop       [21]               [21]   \n",
       "10             161        178       Pop       [10]               [10]   \n",
       "20             311          0       NaN  [76, 103]  [17, 10, 76, 103]   \n",
       "\n",
       "         information  interest language_code  \\\n",
       "track_id                                       \n",
       "2                NaN      4656            en   \n",
       "3                NaN      1470            en   \n",
       "5                NaN      1933            en   \n",
       "10               NaN     54881            en   \n",
       "20               NaN       978            en   \n",
       "\n",
       "                                                    license  listens lyricist  \\\n",
       "track_id                                                                        \n",
       "2         Attribution-NonCommercial-ShareAlike 3.0 Inter...     1293      NaN   \n",
       "3         Attribution-NonCommercial-ShareAlike 3.0 Inter...      514      NaN   \n",
       "5         Attribution-NonCommercial-ShareAlike 3.0 Inter...     1151      NaN   \n",
       "10        Attribution-NonCommercial-NoDerivatives (aka M...    50135      NaN   \n",
       "20        Attribution-NonCommercial-NoDerivatives (aka M...      361      NaN   \n",
       "\n",
       "          number publisher tags            title  \n",
       "track_id                                          \n",
       "2              3       NaN   []             Food  \n",
       "3              4       NaN   []     Electric Ave  \n",
       "5              6       NaN   []       This World  \n",
       "10             1       NaN   []          Freeway  \n",
       "20             3       NaN   []  Spiritual Level  "
      ]
     },
     "metadata": {},
     "output_type": "display_data"
    }
   ],
   "source": [
    "ipd.display(tracks['track'].head())"
   ]
  },
  {
   "cell_type": "markdown",
   "metadata": {},
   "source": [
    "### 1.1 Subsets\n",
    "\n",
    "The small and medium subsets can be selected with the below code."
   ]
  },
  {
   "cell_type": "code",
   "execution_count": 6,
   "metadata": {},
   "outputs": [
    {
     "data": {
      "text/plain": [
       "(8000, 52)"
      ]
     },
     "execution_count": 6,
     "metadata": {},
     "output_type": "execute_result"
    }
   ],
   "source": [
    "small = tracks[tracks['set', 'subset'] <= 'small']\n",
    "small.shape"
   ]
  },
  {
   "cell_type": "code",
   "execution_count": 7,
   "metadata": {},
   "outputs": [],
   "source": [
    "small = small['track'].reset_index(drop=False)\n",
    "small = small.rename(columns={'genre_top': 'genre'})"
   ]
  },
  {
   "cell_type": "code",
   "execution_count": 8,
   "metadata": {},
   "outputs": [
    {
     "data": {
      "text/html": [
       "<div>\n",
       "<style scoped>\n",
       "    .dataframe tbody tr th:only-of-type {\n",
       "        vertical-align: middle;\n",
       "    }\n",
       "\n",
       "    .dataframe tbody tr th {\n",
       "        vertical-align: top;\n",
       "    }\n",
       "\n",
       "    .dataframe thead th {\n",
       "        text-align: right;\n",
       "    }\n",
       "</style>\n",
       "<table border=\"1\" class=\"dataframe\">\n",
       "  <thead>\n",
       "    <tr style=\"text-align: right;\">\n",
       "      <th></th>\n",
       "      <th>track_id</th>\n",
       "      <th>bit_rate</th>\n",
       "      <th>comments</th>\n",
       "      <th>composer</th>\n",
       "      <th>date_created</th>\n",
       "      <th>date_recorded</th>\n",
       "      <th>duration</th>\n",
       "      <th>favorites</th>\n",
       "      <th>genre</th>\n",
       "      <th>genres</th>\n",
       "      <th>...</th>\n",
       "      <th>information</th>\n",
       "      <th>interest</th>\n",
       "      <th>language_code</th>\n",
       "      <th>license</th>\n",
       "      <th>listens</th>\n",
       "      <th>lyricist</th>\n",
       "      <th>number</th>\n",
       "      <th>publisher</th>\n",
       "      <th>tags</th>\n",
       "      <th>title</th>\n",
       "    </tr>\n",
       "  </thead>\n",
       "  <tbody>\n",
       "    <tr>\n",
       "      <th>0</th>\n",
       "      <td>2</td>\n",
       "      <td>256000</td>\n",
       "      <td>0</td>\n",
       "      <td>NaN</td>\n",
       "      <td>2008-11-26 01:48:12</td>\n",
       "      <td>2008-11-26</td>\n",
       "      <td>168</td>\n",
       "      <td>2</td>\n",
       "      <td>Hip-Hop</td>\n",
       "      <td>[21]</td>\n",
       "      <td>...</td>\n",
       "      <td>NaN</td>\n",
       "      <td>4656</td>\n",
       "      <td>en</td>\n",
       "      <td>Attribution-NonCommercial-ShareAlike 3.0 Inter...</td>\n",
       "      <td>1293</td>\n",
       "      <td>NaN</td>\n",
       "      <td>3</td>\n",
       "      <td>NaN</td>\n",
       "      <td>[]</td>\n",
       "      <td>Food</td>\n",
       "    </tr>\n",
       "    <tr>\n",
       "      <th>1</th>\n",
       "      <td>5</td>\n",
       "      <td>256000</td>\n",
       "      <td>0</td>\n",
       "      <td>NaN</td>\n",
       "      <td>2008-11-26 01:48:20</td>\n",
       "      <td>2008-11-26</td>\n",
       "      <td>206</td>\n",
       "      <td>6</td>\n",
       "      <td>Hip-Hop</td>\n",
       "      <td>[21]</td>\n",
       "      <td>...</td>\n",
       "      <td>NaN</td>\n",
       "      <td>1933</td>\n",
       "      <td>en</td>\n",
       "      <td>Attribution-NonCommercial-ShareAlike 3.0 Inter...</td>\n",
       "      <td>1151</td>\n",
       "      <td>NaN</td>\n",
       "      <td>6</td>\n",
       "      <td>NaN</td>\n",
       "      <td>[]</td>\n",
       "      <td>This World</td>\n",
       "    </tr>\n",
       "    <tr>\n",
       "      <th>2</th>\n",
       "      <td>10</td>\n",
       "      <td>192000</td>\n",
       "      <td>0</td>\n",
       "      <td>Kurt Vile</td>\n",
       "      <td>2008-11-25 17:49:06</td>\n",
       "      <td>2008-11-26</td>\n",
       "      <td>161</td>\n",
       "      <td>178</td>\n",
       "      <td>Pop</td>\n",
       "      <td>[10]</td>\n",
       "      <td>...</td>\n",
       "      <td>NaN</td>\n",
       "      <td>54881</td>\n",
       "      <td>en</td>\n",
       "      <td>Attribution-NonCommercial-NoDerivatives (aka M...</td>\n",
       "      <td>50135</td>\n",
       "      <td>NaN</td>\n",
       "      <td>1</td>\n",
       "      <td>NaN</td>\n",
       "      <td>[]</td>\n",
       "      <td>Freeway</td>\n",
       "    </tr>\n",
       "    <tr>\n",
       "      <th>3</th>\n",
       "      <td>140</td>\n",
       "      <td>128000</td>\n",
       "      <td>0</td>\n",
       "      <td>NaN</td>\n",
       "      <td>2008-11-26 01:44:07</td>\n",
       "      <td>2008-11-26</td>\n",
       "      <td>253</td>\n",
       "      <td>5</td>\n",
       "      <td>Folk</td>\n",
       "      <td>[17]</td>\n",
       "      <td>...</td>\n",
       "      <td>NaN</td>\n",
       "      <td>1593</td>\n",
       "      <td>en</td>\n",
       "      <td>Attribution-Noncommercial-No Derivative Works ...</td>\n",
       "      <td>1299</td>\n",
       "      <td>NaN</td>\n",
       "      <td>2</td>\n",
       "      <td>NaN</td>\n",
       "      <td>[]</td>\n",
       "      <td>Queen Of The Wires</td>\n",
       "    </tr>\n",
       "    <tr>\n",
       "      <th>4</th>\n",
       "      <td>141</td>\n",
       "      <td>128000</td>\n",
       "      <td>0</td>\n",
       "      <td>NaN</td>\n",
       "      <td>2008-11-26 01:44:10</td>\n",
       "      <td>2008-11-26</td>\n",
       "      <td>182</td>\n",
       "      <td>1</td>\n",
       "      <td>Folk</td>\n",
       "      <td>[17]</td>\n",
       "      <td>...</td>\n",
       "      <td>NaN</td>\n",
       "      <td>839</td>\n",
       "      <td>en</td>\n",
       "      <td>Attribution-Noncommercial-No Derivative Works ...</td>\n",
       "      <td>725</td>\n",
       "      <td>NaN</td>\n",
       "      <td>4</td>\n",
       "      <td>NaN</td>\n",
       "      <td>[]</td>\n",
       "      <td>Ohio</td>\n",
       "    </tr>\n",
       "    <tr>\n",
       "      <th>...</th>\n",
       "      <td>...</td>\n",
       "      <td>...</td>\n",
       "      <td>...</td>\n",
       "      <td>...</td>\n",
       "      <td>...</td>\n",
       "      <td>...</td>\n",
       "      <td>...</td>\n",
       "      <td>...</td>\n",
       "      <td>...</td>\n",
       "      <td>...</td>\n",
       "      <td>...</td>\n",
       "      <td>...</td>\n",
       "      <td>...</td>\n",
       "      <td>...</td>\n",
       "      <td>...</td>\n",
       "      <td>...</td>\n",
       "      <td>...</td>\n",
       "      <td>...</td>\n",
       "      <td>...</td>\n",
       "      <td>...</td>\n",
       "      <td>...</td>\n",
       "    </tr>\n",
       "    <tr>\n",
       "      <th>7995</th>\n",
       "      <td>154308</td>\n",
       "      <td>320000</td>\n",
       "      <td>0</td>\n",
       "      <td>NaN</td>\n",
       "      <td>2017-03-05 04:58:50</td>\n",
       "      <td>NaT</td>\n",
       "      <td>194</td>\n",
       "      <td>2</td>\n",
       "      <td>Hip-Hop</td>\n",
       "      <td>[21, 539, 811]</td>\n",
       "      <td>...</td>\n",
       "      <td>NaN</td>\n",
       "      <td>3371</td>\n",
       "      <td>NaN</td>\n",
       "      <td>Attribution</td>\n",
       "      <td>2705</td>\n",
       "      <td>NaN</td>\n",
       "      <td>17</td>\n",
       "      <td>NaN</td>\n",
       "      <td>[fleslit, trap beat free use, trap beat free d...</td>\n",
       "      <td>MIA</td>\n",
       "    </tr>\n",
       "    <tr>\n",
       "      <th>7996</th>\n",
       "      <td>154309</td>\n",
       "      <td>320000</td>\n",
       "      <td>0</td>\n",
       "      <td>NaN</td>\n",
       "      <td>2017-03-05 04:58:52</td>\n",
       "      <td>NaT</td>\n",
       "      <td>162</td>\n",
       "      <td>5</td>\n",
       "      <td>Hip-Hop</td>\n",
       "      <td>[21, 539, 811]</td>\n",
       "      <td>...</td>\n",
       "      <td>NaN</td>\n",
       "      <td>4525</td>\n",
       "      <td>NaN</td>\n",
       "      <td>Attribution</td>\n",
       "      <td>3589</td>\n",
       "      <td>NaN</td>\n",
       "      <td>18</td>\n",
       "      <td>NaN</td>\n",
       "      <td>[fleslit, trap beat free use, trap beat free d...</td>\n",
       "      <td>A1 Symphony</td>\n",
       "    </tr>\n",
       "    <tr>\n",
       "      <th>7997</th>\n",
       "      <td>154413</td>\n",
       "      <td>320000</td>\n",
       "      <td>0</td>\n",
       "      <td>NaN</td>\n",
       "      <td>2017-03-07 18:46:39</td>\n",
       "      <td>NaT</td>\n",
       "      <td>349</td>\n",
       "      <td>0</td>\n",
       "      <td>Pop</td>\n",
       "      <td>[76]</td>\n",
       "      <td>...</td>\n",
       "      <td>NaN</td>\n",
       "      <td>809</td>\n",
       "      <td>NaN</td>\n",
       "      <td>Creative Commons Attribution-NonCommercial-NoD...</td>\n",
       "      <td>676</td>\n",
       "      <td>NaN</td>\n",
       "      <td>9</td>\n",
       "      <td>NaN</td>\n",
       "      <td>[]</td>\n",
       "      <td>Do Easy</td>\n",
       "    </tr>\n",
       "    <tr>\n",
       "      <th>7998</th>\n",
       "      <td>154414</td>\n",
       "      <td>320000</td>\n",
       "      <td>0</td>\n",
       "      <td>NaN</td>\n",
       "      <td>2017-03-07 18:46:41</td>\n",
       "      <td>NaT</td>\n",
       "      <td>346</td>\n",
       "      <td>1</td>\n",
       "      <td>Pop</td>\n",
       "      <td>[76]</td>\n",
       "      <td>...</td>\n",
       "      <td>NaN</td>\n",
       "      <td>851</td>\n",
       "      <td>NaN</td>\n",
       "      <td>Creative Commons Attribution-NonCommercial-NoD...</td>\n",
       "      <td>788</td>\n",
       "      <td>NaN</td>\n",
       "      <td>10</td>\n",
       "      <td>NaN</td>\n",
       "      <td>[]</td>\n",
       "      <td>Dead Can Dance (uncensored)</td>\n",
       "    </tr>\n",
       "    <tr>\n",
       "      <th>7999</th>\n",
       "      <td>155066</td>\n",
       "      <td>320000</td>\n",
       "      <td>0</td>\n",
       "      <td>NaN</td>\n",
       "      <td>2017-03-24 19:40:47</td>\n",
       "      <td>NaT</td>\n",
       "      <td>252</td>\n",
       "      <td>6</td>\n",
       "      <td>Hip-Hop</td>\n",
       "      <td>[21, 811]</td>\n",
       "      <td>...</td>\n",
       "      <td>NaN</td>\n",
       "      <td>2065</td>\n",
       "      <td>NaN</td>\n",
       "      <td>Attribution</td>\n",
       "      <td>1474</td>\n",
       "      <td>NaN</td>\n",
       "      <td>3</td>\n",
       "      <td>NaN</td>\n",
       "      <td>[old school beats, 2017 free instrumentals, fr...</td>\n",
       "      <td>Roy</td>\n",
       "    </tr>\n",
       "  </tbody>\n",
       "</table>\n",
       "<p>8000 rows × 21 columns</p>\n",
       "</div>"
      ],
      "text/plain": [
       "      track_id  bit_rate  comments   composer        date_created  \\\n",
       "0            2    256000         0        NaN 2008-11-26 01:48:12   \n",
       "1            5    256000         0        NaN 2008-11-26 01:48:20   \n",
       "2           10    192000         0  Kurt Vile 2008-11-25 17:49:06   \n",
       "3          140    128000         0        NaN 2008-11-26 01:44:07   \n",
       "4          141    128000         0        NaN 2008-11-26 01:44:10   \n",
       "...        ...       ...       ...        ...                 ...   \n",
       "7995    154308    320000         0        NaN 2017-03-05 04:58:50   \n",
       "7996    154309    320000         0        NaN 2017-03-05 04:58:52   \n",
       "7997    154413    320000         0        NaN 2017-03-07 18:46:39   \n",
       "7998    154414    320000         0        NaN 2017-03-07 18:46:41   \n",
       "7999    155066    320000         0        NaN 2017-03-24 19:40:47   \n",
       "\n",
       "     date_recorded  duration  favorites    genre          genres  ...  \\\n",
       "0       2008-11-26       168          2  Hip-Hop            [21]  ...   \n",
       "1       2008-11-26       206          6  Hip-Hop            [21]  ...   \n",
       "2       2008-11-26       161        178      Pop            [10]  ...   \n",
       "3       2008-11-26       253          5     Folk            [17]  ...   \n",
       "4       2008-11-26       182          1     Folk            [17]  ...   \n",
       "...            ...       ...        ...      ...             ...  ...   \n",
       "7995           NaT       194          2  Hip-Hop  [21, 539, 811]  ...   \n",
       "7996           NaT       162          5  Hip-Hop  [21, 539, 811]  ...   \n",
       "7997           NaT       349          0      Pop            [76]  ...   \n",
       "7998           NaT       346          1      Pop            [76]  ...   \n",
       "7999           NaT       252          6  Hip-Hop       [21, 811]  ...   \n",
       "\n",
       "     information interest  language_code  \\\n",
       "0            NaN     4656             en   \n",
       "1            NaN     1933             en   \n",
       "2            NaN    54881             en   \n",
       "3            NaN     1593             en   \n",
       "4            NaN      839             en   \n",
       "...          ...      ...            ...   \n",
       "7995         NaN     3371            NaN   \n",
       "7996         NaN     4525            NaN   \n",
       "7997         NaN      809            NaN   \n",
       "7998         NaN      851            NaN   \n",
       "7999         NaN     2065            NaN   \n",
       "\n",
       "                                                license listens  lyricist  \\\n",
       "0     Attribution-NonCommercial-ShareAlike 3.0 Inter...    1293       NaN   \n",
       "1     Attribution-NonCommercial-ShareAlike 3.0 Inter...    1151       NaN   \n",
       "2     Attribution-NonCommercial-NoDerivatives (aka M...   50135       NaN   \n",
       "3     Attribution-Noncommercial-No Derivative Works ...    1299       NaN   \n",
       "4     Attribution-Noncommercial-No Derivative Works ...     725       NaN   \n",
       "...                                                 ...     ...       ...   \n",
       "7995                                        Attribution    2705       NaN   \n",
       "7996                                        Attribution    3589       NaN   \n",
       "7997  Creative Commons Attribution-NonCommercial-NoD...     676       NaN   \n",
       "7998  Creative Commons Attribution-NonCommercial-NoD...     788       NaN   \n",
       "7999                                        Attribution    1474       NaN   \n",
       "\n",
       "     number  publisher                                               tags  \\\n",
       "0         3        NaN                                                 []   \n",
       "1         6        NaN                                                 []   \n",
       "2         1        NaN                                                 []   \n",
       "3         2        NaN                                                 []   \n",
       "4         4        NaN                                                 []   \n",
       "...     ...        ...                                                ...   \n",
       "7995     17        NaN  [fleslit, trap beat free use, trap beat free d...   \n",
       "7996     18        NaN  [fleslit, trap beat free use, trap beat free d...   \n",
       "7997      9        NaN                                                 []   \n",
       "7998     10        NaN                                                 []   \n",
       "7999      3        NaN  [old school beats, 2017 free instrumentals, fr...   \n",
       "\n",
       "                            title  \n",
       "0                            Food  \n",
       "1                      This World  \n",
       "2                         Freeway  \n",
       "3              Queen Of The Wires  \n",
       "4                            Ohio  \n",
       "...                           ...  \n",
       "7995                          MIA  \n",
       "7996                  A1 Symphony  \n",
       "7997                      Do Easy  \n",
       "7998  Dead Can Dance (uncensored)  \n",
       "7999                          Roy  \n",
       "\n",
       "[8000 rows x 21 columns]"
      ]
     },
     "execution_count": 8,
     "metadata": {},
     "output_type": "execute_result"
    }
   ],
   "source": [
    "small"
   ]
  },
  {
   "cell_type": "code",
   "execution_count": 9,
   "metadata": {},
   "outputs": [
    {
     "name": "stdout",
     "output_type": "stream",
     "text": [
      "Minimum duration: 60\n",
      "Maximum duration: 600\n",
      "Average duration: 228.8415\n"
     ]
    }
   ],
   "source": [
    "min_duration = small['track', 'duration'].min()\n",
    "max_duration = small['track', 'duration'].max()\n",
    "avg_duration = small['track', 'duration'].mean()\n",
    "\n",
    "print(f\"Minimum duration: {min_duration}\")\n",
    "print(f\"Maximum duration: {max_duration}\")\n",
    "print(f\"Average duration: {avg_duration}\")"
   ]
  },
  {
   "cell_type": "code",
   "execution_count": 5,
   "metadata": {},
   "outputs": [
    {
     "data": {
      "text/plain": [
       "(25000, 52)"
      ]
     },
     "execution_count": 5,
     "metadata": {},
     "output_type": "execute_result"
    }
   ],
   "source": [
    "medium = tracks[tracks['set', 'subset'] <= 'medium']\n",
    "medium.shape"
   ]
  },
  {
   "cell_type": "code",
   "execution_count": 10,
   "metadata": {},
   "outputs": [
    {
     "ename": "KeyError",
     "evalue": "('track', 'genre_top')",
     "output_type": "error",
     "traceback": [
      "\u001b[1;31m---------------------------------------------------------------------------\u001b[0m",
      "\u001b[1;31mKeyError\u001b[0m                                  Traceback (most recent call last)",
      "Cell \u001b[1;32mIn[10], line 2\u001b[0m\n\u001b[0;32m      1\u001b[0m \u001b[38;5;66;03m# Create a dictionary where keys are top-level genres and values are lists of track IDs\u001b[39;00m\n\u001b[1;32m----> 2\u001b[0m genre_track_dict \u001b[38;5;241m=\u001b[39m \u001b[43msmall\u001b[49m\u001b[38;5;241;43m.\u001b[39;49m\u001b[43mgroupby\u001b[49m\u001b[43m(\u001b[49m\u001b[43m(\u001b[49m\u001b[38;5;124;43m'\u001b[39;49m\u001b[38;5;124;43mtrack\u001b[39;49m\u001b[38;5;124;43m'\u001b[39;49m\u001b[43m,\u001b[49m\u001b[43m \u001b[49m\u001b[38;5;124;43m'\u001b[39;49m\u001b[38;5;124;43mgenre_top\u001b[39;49m\u001b[38;5;124;43m'\u001b[39;49m\u001b[43m)\u001b[49m\u001b[43m)\u001b[49m\u001b[38;5;241m.\u001b[39mapply(\u001b[38;5;28;01mlambda\u001b[39;00m x: x\u001b[38;5;241m.\u001b[39mindex\u001b[38;5;241m.\u001b[39mtolist())\u001b[38;5;241m.\u001b[39mto_dict()\n\u001b[0;32m      4\u001b[0m \u001b[38;5;66;03m# Drop the genres that have no tracks\u001b[39;00m\n\u001b[0;32m      5\u001b[0m genre_track_dict \u001b[38;5;241m=\u001b[39m {k: v \u001b[38;5;28;01mfor\u001b[39;00m k, v \u001b[38;5;129;01min\u001b[39;00m genre_track_dict\u001b[38;5;241m.\u001b[39mitems() \u001b[38;5;28;01mif\u001b[39;00m \u001b[38;5;28mlen\u001b[39m(v) \u001b[38;5;241m>\u001b[39m \u001b[38;5;241m0\u001b[39m}\n",
      "File \u001b[1;32mc:\\Users\\sabbi\\AppData\\Local\\Programs\\Python\\Python310\\lib\\site-packages\\pandas\\core\\frame.py:8869\u001b[0m, in \u001b[0;36mDataFrame.groupby\u001b[1;34m(self, by, axis, level, as_index, sort, group_keys, observed, dropna)\u001b[0m\n\u001b[0;32m   8866\u001b[0m \u001b[38;5;28;01mif\u001b[39;00m level \u001b[38;5;129;01mis\u001b[39;00m \u001b[38;5;28;01mNone\u001b[39;00m \u001b[38;5;129;01mand\u001b[39;00m by \u001b[38;5;129;01mis\u001b[39;00m \u001b[38;5;28;01mNone\u001b[39;00m:\n\u001b[0;32m   8867\u001b[0m     \u001b[38;5;28;01mraise\u001b[39;00m \u001b[38;5;167;01mTypeError\u001b[39;00m(\u001b[38;5;124m\"\u001b[39m\u001b[38;5;124mYou have to supply one of \u001b[39m\u001b[38;5;124m'\u001b[39m\u001b[38;5;124mby\u001b[39m\u001b[38;5;124m'\u001b[39m\u001b[38;5;124m and \u001b[39m\u001b[38;5;124m'\u001b[39m\u001b[38;5;124mlevel\u001b[39m\u001b[38;5;124m'\u001b[39m\u001b[38;5;124m\"\u001b[39m)\n\u001b[1;32m-> 8869\u001b[0m \u001b[38;5;28;01mreturn\u001b[39;00m \u001b[43mDataFrameGroupBy\u001b[49m\u001b[43m(\u001b[49m\n\u001b[0;32m   8870\u001b[0m \u001b[43m    \u001b[49m\u001b[43mobj\u001b[49m\u001b[38;5;241;43m=\u001b[39;49m\u001b[38;5;28;43mself\u001b[39;49m\u001b[43m,\u001b[49m\n\u001b[0;32m   8871\u001b[0m \u001b[43m    \u001b[49m\u001b[43mkeys\u001b[49m\u001b[38;5;241;43m=\u001b[39;49m\u001b[43mby\u001b[49m\u001b[43m,\u001b[49m\n\u001b[0;32m   8872\u001b[0m \u001b[43m    \u001b[49m\u001b[43maxis\u001b[49m\u001b[38;5;241;43m=\u001b[39;49m\u001b[43maxis\u001b[49m\u001b[43m,\u001b[49m\n\u001b[0;32m   8873\u001b[0m \u001b[43m    \u001b[49m\u001b[43mlevel\u001b[49m\u001b[38;5;241;43m=\u001b[39;49m\u001b[43mlevel\u001b[49m\u001b[43m,\u001b[49m\n\u001b[0;32m   8874\u001b[0m \u001b[43m    \u001b[49m\u001b[43mas_index\u001b[49m\u001b[38;5;241;43m=\u001b[39;49m\u001b[43mas_index\u001b[49m\u001b[43m,\u001b[49m\n\u001b[0;32m   8875\u001b[0m \u001b[43m    \u001b[49m\u001b[43msort\u001b[49m\u001b[38;5;241;43m=\u001b[39;49m\u001b[43msort\u001b[49m\u001b[43m,\u001b[49m\n\u001b[0;32m   8876\u001b[0m \u001b[43m    \u001b[49m\u001b[43mgroup_keys\u001b[49m\u001b[38;5;241;43m=\u001b[39;49m\u001b[43mgroup_keys\u001b[49m\u001b[43m,\u001b[49m\n\u001b[0;32m   8877\u001b[0m \u001b[43m    \u001b[49m\u001b[43mobserved\u001b[49m\u001b[38;5;241;43m=\u001b[39;49m\u001b[43mobserved\u001b[49m\u001b[43m,\u001b[49m\n\u001b[0;32m   8878\u001b[0m \u001b[43m    \u001b[49m\u001b[43mdropna\u001b[49m\u001b[38;5;241;43m=\u001b[39;49m\u001b[43mdropna\u001b[49m\u001b[43m,\u001b[49m\n\u001b[0;32m   8879\u001b[0m \u001b[43m\u001b[49m\u001b[43m)\u001b[49m\n",
      "File \u001b[1;32mc:\\Users\\sabbi\\AppData\\Local\\Programs\\Python\\Python310\\lib\\site-packages\\pandas\\core\\groupby\\groupby.py:1278\u001b[0m, in \u001b[0;36mGroupBy.__init__\u001b[1;34m(self, obj, keys, axis, level, grouper, exclusions, selection, as_index, sort, group_keys, observed, dropna)\u001b[0m\n\u001b[0;32m   1275\u001b[0m \u001b[38;5;28mself\u001b[39m\u001b[38;5;241m.\u001b[39mdropna \u001b[38;5;241m=\u001b[39m dropna\n\u001b[0;32m   1277\u001b[0m \u001b[38;5;28;01mif\u001b[39;00m grouper \u001b[38;5;129;01mis\u001b[39;00m \u001b[38;5;28;01mNone\u001b[39;00m:\n\u001b[1;32m-> 1278\u001b[0m     grouper, exclusions, obj \u001b[38;5;241m=\u001b[39m \u001b[43mget_grouper\u001b[49m\u001b[43m(\u001b[49m\n\u001b[0;32m   1279\u001b[0m \u001b[43m        \u001b[49m\u001b[43mobj\u001b[49m\u001b[43m,\u001b[49m\n\u001b[0;32m   1280\u001b[0m \u001b[43m        \u001b[49m\u001b[43mkeys\u001b[49m\u001b[43m,\u001b[49m\n\u001b[0;32m   1281\u001b[0m \u001b[43m        \u001b[49m\u001b[43maxis\u001b[49m\u001b[38;5;241;43m=\u001b[39;49m\u001b[43maxis\u001b[49m\u001b[43m,\u001b[49m\n\u001b[0;32m   1282\u001b[0m \u001b[43m        \u001b[49m\u001b[43mlevel\u001b[49m\u001b[38;5;241;43m=\u001b[39;49m\u001b[43mlevel\u001b[49m\u001b[43m,\u001b[49m\n\u001b[0;32m   1283\u001b[0m \u001b[43m        \u001b[49m\u001b[43msort\u001b[49m\u001b[38;5;241;43m=\u001b[39;49m\u001b[43msort\u001b[49m\u001b[43m,\u001b[49m\n\u001b[0;32m   1284\u001b[0m \u001b[43m        \u001b[49m\u001b[43mobserved\u001b[49m\u001b[38;5;241;43m=\u001b[39;49m\u001b[38;5;28;43;01mFalse\u001b[39;49;00m\u001b[43m \u001b[49m\u001b[38;5;28;43;01mif\u001b[39;49;00m\u001b[43m \u001b[49m\u001b[43mobserved\u001b[49m\u001b[43m \u001b[49m\u001b[38;5;129;43;01mis\u001b[39;49;00m\u001b[43m \u001b[49m\u001b[43mlib\u001b[49m\u001b[38;5;241;43m.\u001b[39;49m\u001b[43mno_default\u001b[49m\u001b[43m \u001b[49m\u001b[38;5;28;43;01melse\u001b[39;49;00m\u001b[43m \u001b[49m\u001b[43mobserved\u001b[49m\u001b[43m,\u001b[49m\n\u001b[0;32m   1285\u001b[0m \u001b[43m        \u001b[49m\u001b[43mdropna\u001b[49m\u001b[38;5;241;43m=\u001b[39;49m\u001b[38;5;28;43mself\u001b[39;49m\u001b[38;5;241;43m.\u001b[39;49m\u001b[43mdropna\u001b[49m\u001b[43m,\u001b[49m\n\u001b[0;32m   1286\u001b[0m \u001b[43m    \u001b[49m\u001b[43m)\u001b[49m\n\u001b[0;32m   1288\u001b[0m \u001b[38;5;28;01mif\u001b[39;00m observed \u001b[38;5;129;01mis\u001b[39;00m lib\u001b[38;5;241m.\u001b[39mno_default:\n\u001b[0;32m   1289\u001b[0m     \u001b[38;5;28;01mif\u001b[39;00m \u001b[38;5;28many\u001b[39m(ping\u001b[38;5;241m.\u001b[39m_passed_categorical \u001b[38;5;28;01mfor\u001b[39;00m ping \u001b[38;5;129;01min\u001b[39;00m grouper\u001b[38;5;241m.\u001b[39mgroupings):\n",
      "File \u001b[1;32mc:\\Users\\sabbi\\AppData\\Local\\Programs\\Python\\Python310\\lib\\site-packages\\pandas\\core\\groupby\\grouper.py:1009\u001b[0m, in \u001b[0;36mget_grouper\u001b[1;34m(obj, key, axis, level, sort, observed, validate, dropna)\u001b[0m\n\u001b[0;32m   1007\u001b[0m         in_axis, level, gpr \u001b[38;5;241m=\u001b[39m \u001b[38;5;28;01mFalse\u001b[39;00m, gpr, \u001b[38;5;28;01mNone\u001b[39;00m\n\u001b[0;32m   1008\u001b[0m     \u001b[38;5;28;01melse\u001b[39;00m:\n\u001b[1;32m-> 1009\u001b[0m         \u001b[38;5;28;01mraise\u001b[39;00m \u001b[38;5;167;01mKeyError\u001b[39;00m(gpr)\n\u001b[0;32m   1010\u001b[0m \u001b[38;5;28;01melif\u001b[39;00m \u001b[38;5;28misinstance\u001b[39m(gpr, Grouper) \u001b[38;5;129;01mand\u001b[39;00m gpr\u001b[38;5;241m.\u001b[39mkey \u001b[38;5;129;01mis\u001b[39;00m \u001b[38;5;129;01mnot\u001b[39;00m \u001b[38;5;28;01mNone\u001b[39;00m:\n\u001b[0;32m   1011\u001b[0m     \u001b[38;5;66;03m# Add key to exclusions\u001b[39;00m\n\u001b[0;32m   1012\u001b[0m     exclusions\u001b[38;5;241m.\u001b[39madd(gpr\u001b[38;5;241m.\u001b[39mkey)\n",
      "\u001b[1;31mKeyError\u001b[0m: ('track', 'genre_top')"
     ]
    }
   ],
   "source": [
    "# Create a dictionary where keys are top-level genres and values are lists of track IDs\n",
    "genre_track_dict = small.groupby(('track', 'genre_top')).apply(lambda x: x.index.tolist()).to_dict()\n",
    "\n",
    "# Drop the genres that have no tracks\n",
    "genre_track_dict = {k: v for k, v in genre_track_dict.items() if len(v) > 0}\n",
    "\n",
    "for genre, track_ids in genre_track_dict.items():\n",
    "    print(f\"{genre}: {len(track_ids)}\")\n",
    "\n",
    "# save to json\n",
    "import json\n",
    "\n",
    "with open('genre_track_dict.json', 'w') as f:\n",
    "    json.dump(genre_track_dict, f) \n",
    "    f.close()\n"
   ]
  },
  {
   "cell_type": "code",
   "execution_count": 16,
   "metadata": {},
   "outputs": [
    {
     "name": "stdout",
     "output_type": "stream",
     "text": [
      "Electronic: 100 tracks\n",
      "Experimental: 100 tracks\n",
      "Folk: 100 tracks\n",
      "Hip-Hop: 100 tracks\n",
      "Instrumental: 100 tracks\n",
      "International: 100 tracks\n",
      "Pop: 100 tracks\n",
      "Rock: 100 tracks\n"
     ]
    }
   ],
   "source": [
    "import json\n",
    "\n",
    "# Load the genre_track_dict from the training JSON file\n",
    "with open('fma_metadata/train/genre_track_dict.json', 'r') as f:\n",
    "    genre_track_dict = json.load(f)\n",
    "\n",
    "# Create the validation set\n",
    "validation_set = {}\n",
    "for genre, track_ids in genre_track_dict.items():\n",
    "    validation_set[genre] = track_ids[:100]\n",
    "    # Remove the selected IDs from the training set\n",
    "    genre_track_dict[genre] = track_ids[100:]\n",
    "\n",
    "# Print the validation set\n",
    "for genre, track_ids in validation_set.items():\n",
    "    print(f\"{genre}: {len(track_ids)} tracks\")\n",
    "\n",
    "# Save the validation set to a JSON file\n",
    "with open('fma_metadata/val/genre_track_dict.json', 'w') as f:\n",
    "    json.dump(validation_set, f)\n",
    "\n",
    "# Save the updated training set to the JSON file\n",
    "with open('fma_metadata/train/genre_track_dict.json', 'w') as f:\n",
    "    json.dump(genre_track_dict, f)"
   ]
  },
  {
   "cell_type": "code",
   "execution_count": 34,
   "metadata": {},
   "outputs": [
    {
     "name": "stdout",
     "output_type": "stream",
     "text": [
      "Training set:\n",
      "Electronic: 899\n",
      "Experimental: 899\n",
      "Folk: 900\n",
      "Hip-Hop: 900\n",
      "Instrumental: 900\n",
      "International: 900\n",
      "Pop: 900\n",
      "Rock: 899\n",
      "Validation set:\n",
      "Electronic: 100\n",
      "Experimental: 100\n",
      "Folk: 100\n",
      "Hip-Hop: 100\n",
      "Instrumental: 100\n",
      "International: 100\n",
      "Pop: 100\n",
      "Rock: 100\n"
     ]
    }
   ],
   "source": [
    "print(\"Training set:\")\n",
    "with open('fma_metadata/train/genre_track_dict.json', 'r') as f:\n",
    "    genre_track_dict = json.load(f)\n",
    "    for bin, ids in genre_track_dict.items():\n",
    "        print(f\"{bin}: {len(ids)}\")\n",
    "\n",
    "print(\"Validation set:\")\n",
    "with open('fma_metadata/val/genre_track_dict.json', 'r') as f:\n",
    "    genre_track_dict = json.load(f)\n",
    "    for bin, ids in genre_track_dict.items():\n",
    "        print(f\"{bin}: {len(ids)}\")"
   ]
  },
  {
   "cell_type": "code",
   "execution_count": 17,
   "metadata": {},
   "outputs": [],
   "source": [
    "# Combine the train and validation sets into a single dictionary\n",
    "combined_dict = {\n",
    "    \"train\": [track_id for track_ids in genre_track_dict.values() for track_id in track_ids],\n",
    "    \"val\": [track_id for track_ids in validation_set.values() for track_id in track_ids]\n",
    "}\n",
    "\n",
    "# Save the combined dictionary to a JSON file\n",
    "with open('train_val_ids.json', 'w') as f:\n",
    "    json.dump(combined_dict, f)"
   ]
  },
  {
   "cell_type": "code",
   "execution_count": 18,
   "metadata": {},
   "outputs": [
    {
     "data": {
      "text/plain": [
       "(7197, 800)"
      ]
     },
     "execution_count": 18,
     "metadata": {},
     "output_type": "execute_result"
    }
   ],
   "source": [
    "len(combined_dict['train']), len(combined_dict['val'])"
   ]
  },
  {
   "cell_type": "code",
   "execution_count": 19,
   "metadata": {},
   "outputs": [],
   "source": [
    "import json\n",
    "\n",
    "# Load the interest_bin_dict from the JSON file\n",
    "with open('fma_metadata/train/interest_bin_dict.json', 'r') as f:\n",
    "    interest_bin_dict = json.load(f)\n",
    "\n",
    "val_interest_bin_dict = {}\n",
    "train_interest_bin_dict = {}\n",
    "\n",
    "# Remove the IDs that are in the validation set\n",
    "for bin, ids in interest_bin_dict.items():\n",
    "    val_interest_bin_dict[bin] = [id for id in ids if id in combined_dict['val']]\n",
    "    train_interest_bin_dict[bin] = [id for id in ids if id in combined_dict['train']]\n",
    "\n",
    "# Save the updated interest_bin_dict to the JSON file\n",
    "with open('fma_metadata/val/interest_bin_dict.json', 'w') as f:\n",
    "    json.dump(val_interest_bin_dict, f)\n",
    "\n",
    "with open('fma_metadata/train/interest_bin_dict.json', 'w') as f:\n",
    "    json.dump(train_interest_bin_dict, f)"
   ]
  },
  {
   "cell_type": "code",
   "execution_count": 24,
   "metadata": {},
   "outputs": [
    {
     "name": "stdout",
     "output_type": "stream",
     "text": [
      "Training set:\n",
      "0-2000: 2023\n",
      "2000-5000: 2577\n",
      "5000-10000: 1585\n",
      "10000+: 1012\n",
      "Validation set:\n",
      "0-2000: 146\n",
      "2000-5000: 318\n",
      "5000-10000: 207\n",
      "10000+: 129\n"
     ]
    }
   ],
   "source": [
    "print(\"Training set:\")\n",
    "with open('fma_metadata/train/interest_bin_dict.json', 'r') as f:\n",
    "    interest_bin_dict = json.load(f)\n",
    "    for bin, ids in interest_bin_dict.items():\n",
    "        print(f\"{bin}: {len(ids)}\")\n",
    "\n",
    "print(\"Validation set:\")\n",
    "with open('fma_metadata/val/interest_bin_dict.json', 'r') as f:\n",
    "    interest_bin_dict = json.load(f)\n",
    "    for bin, ids in interest_bin_dict.items():\n",
    "        print(f\"{bin}: {len(ids)}\")"
   ]
  },
  {
   "cell_type": "code",
   "execution_count": 25,
   "metadata": {},
   "outputs": [],
   "source": [
    "import json\n",
    "\n",
    "# Load the year_created_dict from the JSON file\n",
    "with open('fma_metadata/train/year_created_bin_dict.json', 'r') as f:\n",
    "    year_created_dict = json.load(f)\n",
    "\n",
    "val_year_created_dict = {}\n",
    "train_year_created_dict = {}\n",
    "\n",
    "# Remove the IDs that are in the validation set\n",
    "for bin, ids in year_created_dict.items():\n",
    "    val_year_created_dict[bin] = [id for id in ids if id in combined_dict['val']]\n",
    "    train_year_created_dict[bin] = [id for id in ids if id in combined_dict['train']]\n",
    "\n",
    "# Save the updated year_created_dict to the JSON file\n",
    "with open('fma_metadata/val/year_created_bin_dict.json', 'w') as f:\n",
    "    json.dump(val_year_created_dict, f)\n",
    "\n",
    "with open('fma_metadata/train/year_created_bin_dict.json', 'w') as f:\n",
    "    json.dump(train_year_created_dict, f)"
   ]
  },
  {
   "cell_type": "code",
   "execution_count": 32,
   "metadata": {},
   "outputs": [
    {
     "name": "stdout",
     "output_type": "stream",
     "text": [
      "Training set:\n",
      "2008-2012: 2607\n",
      "2013-2017: 4590\n",
      "Validation set:\n",
      "2008-2012: 790\n",
      "2013-2017: 10\n"
     ]
    }
   ],
   "source": [
    "print(\"Training set:\")\n",
    "with open('fma_metadata/train/year_created_bin_dict.json', 'r') as f:\n",
    "    year_created_dict = json.load(f)\n",
    "    for bin, ids in year_created_dict.items():\n",
    "        print(f\"{bin}: {len(ids)}\")\n",
    "\n",
    "print(\"Validation set:\")\n",
    "with open('fma_metadata/val/year_created_bin_dict.json', 'r') as f:\n",
    "    year_created_dict = json.load(f)\n",
    "    for bin, ids in year_created_dict.items():\n",
    "        print(f\"{bin}: {len(ids)}\")"
   ]
  },
  {
   "cell_type": "code",
   "execution_count": 22,
   "metadata": {},
   "outputs": [
    {
     "name": "stdout",
     "output_type": "stream",
     "text": [
      "0-2000: 2169 tracks\n",
      "2000-5000: 2896 tracks\n",
      "5000-10000: 1794 tracks\n",
      "10000+: 1141 tracks\n"
     ]
    },
    {
     "name": "stderr",
     "output_type": "stream",
     "text": [
      "C:\\Users\\sabbi\\AppData\\Local\\Temp\\ipykernel_21704\\339829924.py:9: FutureWarning: The default of observed=False is deprecated and will be changed to True in a future version of pandas. Pass observed=False to retain current behavior or observed=True to adopt the future default and silence this warning.\n",
      "  interest_bin_dict = small.groupby(('track', 'interest_bin')).apply(lambda x: x.index.tolist()).to_dict()\n"
     ]
    }
   ],
   "source": [
    "# Define the bins for interest\n",
    "bins = [0, 2000, 5000, 10000, float('inf')]\n",
    "labels = ['0-2000', '2000-5000', '5000-10000', '10000+']\n",
    "\n",
    "# Bin the interest values\n",
    "small['track', 'interest_bin'] = pd.cut(small['interest'], bins=bins, labels=labels, right=False)\n",
    "\n",
    "# Create a dictionary where each key is an interest bin and values are list of track ids in that bin\n",
    "interest_bin_dict = small.groupby(('track', 'interest_bin')).apply(lambda x: x.index.tolist()).to_dict()\n",
    "\n",
    "# Print the dictionary\n",
    "for bin_label, track_ids in interest_bin_dict.items():\n",
    "    print(f\"{bin_label}: {len(track_ids)} tracks\")\n",
    "\n",
    "# save to json\n",
    "# with open('interest_bin_dict.json', 'w') as f:\n",
    "#     json.dump(interest_bin_dict, f) \n",
    "#     f.close()"
   ]
  },
  {
   "cell_type": "code",
   "execution_count": 27,
   "metadata": {},
   "outputs": [
    {
     "data": {
      "text/plain": [
       "0"
      ]
     },
     "execution_count": 27,
     "metadata": {},
     "output_type": "execute_result"
    }
   ],
   "source": [
    "# count Nan values in date_recorded column\n",
    "small['date_created'].isna().sum()"
   ]
  },
  {
   "cell_type": "code",
   "execution_count": 28,
   "metadata": {},
   "outputs": [],
   "source": [
    "# Extract the year from the 'date_recorded' column and create a new column 'year_recorded'\n",
    "small['year_created'] = small['date_created'].dt.year"
   ]
  },
  {
   "cell_type": "code",
   "execution_count": 29,
   "metadata": {},
   "outputs": [
    {
     "data": {
      "image/png": "[encoded data removed]",
      "text/plain": [
       "<Figure size 1500x500 with 1 Axes>"
      ]
     },
     "metadata": {},
     "output_type": "display_data"
    }
   ],
   "source": [
    "# plot the number of tracks created each year\n",
    "plt.figure(figsize=(15, 5))\n",
    "small['year_created'].value_counts().sort_index().plot(kind='bar')\n",
    "plt.title('Number of tracks created each year')\n",
    "plt.xlabel('Year')\n",
    "plt.ylabel('Number of tracks')\n",
    "plt.show()\n"
   ]
  },
  {
   "cell_type": "code",
   "execution_count": 30,
   "metadata": {},
   "outputs": [
    {
     "name": "stdout",
     "output_type": "stream",
     "text": [
      "2008-2012: 3397 tracks\n",
      "2013-2017: 4603 tracks\n"
     ]
    },
    {
     "name": "stderr",
     "output_type": "stream",
     "text": [
      "C:\\Users\\sabbi\\AppData\\Local\\Temp\\ipykernel_21704\\2731615662.py:9: FutureWarning: The default of observed=False is deprecated and will be changed to True in a future version of pandas. Pass observed=False to retain current behavior or observed=True to adopt the future default and silence this warning.\n",
      "  year_created_bin_dict = small.groupby(('year_created_bin')).apply(lambda x: x.index.tolist()).to_dict()\n"
     ]
    }
   ],
   "source": [
    "# Define the bins for interest\n",
    "bins = [2007, 2013, 2018]\n",
    "labels = ['2008-2012', '2013-2017']\n",
    "\n",
    "# Bin the interest values\n",
    "small['year_created_bin'] = pd.cut(small['year_created'], bins=bins, labels=labels, right=False)\n",
    "\n",
    "# Create a dictionary where each key is an interest bin and values are list of track ids in that bin\n",
    "year_created_bin_dict = small.groupby(('year_created_bin')).apply(lambda x: x.index.tolist()).to_dict()\n",
    "\n",
    "# Print the dictionary\n",
    "for bin_label, track_ids in year_created_bin_dict.items():\n",
    "    print(f\"{bin_label}: {len(track_ids)} tracks\")\n"
   ]
  },
  {
   "cell_type": "markdown",
   "metadata": {},
   "source": [
    " Generate Small CSV"
   ]
  },
  {
   "cell_type": "code",
   "execution_count": 26,
   "metadata": {},
   "outputs": [],
   "source": [
    "small = tracks[tracks['set', 'subset'] <= 'small'].copy()\n",
    "small = small['track'].reset_index(drop=False)\n",
    "small['year_created'] = small['date_created'].dt.year\n",
    "small = small.rename(columns={'genre_top': 'genre'})\n",
    "small = small[~small['track_id'].isin([133297, 99134, 108925])] # remove corrupted tracks\n",
    "# keep only track_id, genre, year_created, and interest columns\n",
    "small = small[['track_id', 'genre', 'year_created', 'interest']]"
   ]
  },
  {
   "cell_type": "code",
   "execution_count": 28,
   "metadata": {},
   "outputs": [],
   "source": [
    "# save to csv\n",
    "small.to_csv('fma_metadata/small.csv', index=False)"
   ]
  },
  {
   "cell_type": "code",
   "execution_count": 29,
   "metadata": {},
   "outputs": [],
   "source": [
    "# load the small dataset\n",
    "small = pd.read_csv('fma_metadata/small.csv')"
   ]
  },
  {
   "cell_type": "markdown",
   "metadata": {},
   "source": [
    "Split to train and val"
   ]
  },
  {
   "cell_type": "code",
   "execution_count": 32,
   "metadata": {},
   "outputs": [],
   "source": [
    "train_val_ids = json.load(open('fma_metadata/train_val_ids.json'))"
   ]
  },
  {
   "cell_type": "code",
   "execution_count": 35,
   "metadata": {},
   "outputs": [],
   "source": [
    "# create small_train.csv and small_val.csv\n",
    "small_train = small[small['track_id'].isin(train_val_ids['train'])]\n",
    "small_val = small[small['track_id'].isin(train_val_ids['val'])]\n",
    "\n",
    "# save to csv\n",
    "small_train.to_csv('fma_metadata/train/small.csv', index=False)\n",
    "small_val.to_csv('fma_metadata/val/small.csv', index=False)"
   ]
  },
  {
   "cell_type": "markdown",
   "metadata": {},
   "source": [
    "Some sanity checks:"
   ]
  },
  {
   "cell_type": "code",
   "execution_count": 18,
   "metadata": {},
   "outputs": [],
   "source": [
    "# check that tracks in genre_track_dict are in the correct genre bin\n",
    "genre_track_dict = json.load(open('fma_metadata/train/genre_track_dict.json'))\n",
    "\n",
    "for genre, track_ids in genre_track_dict.items():\n",
    "    for track_id in track_ids:\n",
    "        assert small.loc[small['track_id'] == track_id, 'genre'].values[0] == genre\n"
   ]
  }
 ],
 "metadata": {
  "kernelspec": {
   "display_name": "Python 3",
   "language": "python",
   "name": "python3"
  },
  "language_info": {
   "codemirror_mode": {
    "name": "ipython",
    "version": 3
   },
   "file_extension": ".py",
   "mimetype": "text/x-python",
   "name": "python",
   "nbconvert_exporter": "python",
   "pygments_lexer": "ipython3",
   "version": "3.10.0"
  }
 },
 "nbformat": 4,
 "nbformat_minor": 2
}
