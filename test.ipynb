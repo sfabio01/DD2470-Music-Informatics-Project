{
 "cells": [
  {
   "cell_type": "code",
   "execution_count": 2,
   "metadata": {},
   "outputs": [
    {
     "name": "stdout",
     "output_type": "stream",
     "text": [
      "Are embeddings equal? False\n",
      "Embedding cosine similarity: tensor([0.9713], grad_fn=<SumBackward1>)\n"
     ]
    }
   ],
   "source": [
    "import torch\n",
    "import torch.nn.functional as F\n",
    "\n",
    "from model import Song2Vec\n",
    "\n",
    "input_shape = (1024, 2048, 3)\n",
    "DEVICE = torch.device(\"cuda\" if torch.cuda.is_available() else \"cpu\")\n",
    "\n",
    "model = Song2Vec().to(DEVICE)\n",
    "\n",
    "# Generate two random inputs\n",
    "input1 = torch.randn(1, *input_shape).to(DEVICE)\n",
    "input2 = torch.randn(1, *input_shape).to(DEVICE)\n",
    "\n",
    "# Get embeddings\n",
    "_, embed1 = model.encode(input1)\n",
    "_, embed2 = model.encode(input2)\n",
    "\n",
    "# Compare embeddings\n",
    "print(\"Are embeddings equal?\", torch.allclose(embed1, embed2))\n",
    "print(\"Embedding cosine similarity:\", F.cosine_similarity(embed1, embed2))\n"
   ]
  },
  {
   "cell_type": "code",
   "execution_count": 3,
   "metadata": {},
   "outputs": [
    {
     "name": "stdout",
     "output_type": "stream",
     "text": [
      "After encoder: 0.8254242539405823\n",
      "After positional encoding: 0.8261311650276184\n",
      "After transformer encoder: 0.5842868685722351\n",
      "Context after separation: 0.5835574865341187\n",
      "Z after separation: 0.9577295184135437\n",
      "After normalization (final embedding): 0.9577295780181885\n",
      "After transformer decoder: 0.753706157207489\n",
      "After CNN decoder: 0.9974474310874939\n",
      "Final output: 0.9974244236946106\n"
     ]
    }
   ],
   "source": [
    "# Replicate forward pass manually and check cosine similarity for intermediate outputs\n",
    "\n",
    "def cosine_similarity(x1, x2):\n",
    "    return F.cosine_similarity(x1.flatten(), x2.flatten(), dim=0)\n",
    "\n",
    "x1 = input1.permute(0, 3, 2, 1)\n",
    "x2 = input2.permute(0, 3, 2, 1)\n",
    "\n",
    "# Encoder\n",
    "x1 = model.encoder(x1)\n",
    "x2 = model.encoder(x2)\n",
    "print(\"After encoder:\", cosine_similarity(x1, x2).item())\n",
    "\n",
    "# Positional encoding\n",
    "B, L, D = x1.shape\n",
    "pos = model.w_pe(torch.arange(L, device=DEVICE)).unsqueeze(0).expand(B, -1, -1) * 0.01\n",
    "context1 = x1 + pos\n",
    "context2 = x2 + pos\n",
    "print(\"After positional encoding:\", cosine_similarity(context1, context2).item())\n",
    "\n",
    "# Add query vector and apply transformer encoder\n",
    "context_w_query1 = torch.cat([context1, model.query_vector.expand(B, -1, -1)], dim=1)\n",
    "context_w_query2 = torch.cat([context2, model.query_vector.expand(B, -1, -1)], dim=1)\n",
    "context_w_query1 = model.transformer_encoder(context_w_query1)\n",
    "context_w_query2 = model.transformer_encoder(context_w_query2)\n",
    "print(\"After transformer encoder:\", cosine_similarity(context_w_query1, context_w_query2).item())\n",
    "\n",
    "# Separate context and z\n",
    "context1 = context_w_query1[:, :-1, :]\n",
    "context2 = context_w_query2[:, :-1, :]\n",
    "z1 = context_w_query1[:, -1, :]\n",
    "z2 = context_w_query2[:, -1, :]\n",
    "print(\"Context after separation:\", cosine_similarity(context1, context2).item())\n",
    "print(\"Z after separation:\", cosine_similarity(z1, z2).item())\n",
    "\n",
    "# Normalize z\n",
    "z1 = F.normalize(z1.squeeze(1), p=2, dim=1)\n",
    "z2 = F.normalize(z2.squeeze(1), p=2, dim=1)\n",
    "print(\"After normalization (final embedding):\", cosine_similarity(z1, z2).item())\n",
    "\n",
    "# Decoder (optional, as it's not part of the embedding process)\n",
    "x1 = model.transformer_decoder(context1)\n",
    "x2 = model.transformer_decoder(context2)\n",
    "print(\"After transformer decoder:\", cosine_similarity(x1, x2).item())\n",
    "\n",
    "x1 = model.decoder(x1)\n",
    "x2 = model.decoder(x2)\n",
    "print(\"After CNN decoder:\", cosine_similarity(x1, x2).item())\n",
    "\n",
    "x1 = x1.permute(0, 3, 2, 1)\n",
    "x2 = x2.permute(0, 3, 2, 1)\n",
    "print(\"Final output:\", cosine_similarity(x1, x2).item())\n"
   ]
  },
  {
   "cell_type": "code",
   "execution_count": 4,
   "metadata": {},
   "outputs": [],
   "source": [
    "from baseline_model import Song2Vec\n",
    "\n",
    "model = Song2Vec().to(DEVICE)\n",
    "\n",
    "# Generate two random inputs\n",
    "input1 = torch.randn(1, *input_shape).to(DEVICE)\n",
    "input2 = torch.randn(1, *input_shape).to(DEVICE)\n"
   ]
  },
  {
   "cell_type": "code",
   "execution_count": 5,
   "metadata": {},
   "outputs": [
    {
     "name": "stdout",
     "output_type": "stream",
     "text": [
      "After encoder: -0.0015101489843800664\n",
      "After reshape: -0.0015101489843800664\n",
      "After GRU encoder (out): 0.07361114770174026\n",
      "After GRU encoder (h_n): 0.13077013194561005\n",
      "Z before normalization: 0.17049498856067657\n",
      "After normalization (final embedding): 0.17049501836299896\n"
     ]
    },
    {
     "ename": "RuntimeError",
     "evalue": "input.size(-1) must be equal to input_size. Expected 1, got 512",
     "output_type": "error",
     "traceback": [
      "\u001b[0;31m---------------------------------------------------------------------------\u001b[0m",
      "\u001b[0;31mRuntimeError\u001b[0m                              Traceback (most recent call last)",
      "Cell \u001b[0;32mIn[5], line 39\u001b[0m\n\u001b[1;32m     36\u001b[0m \u001b[38;5;28mprint\u001b[39m(\u001b[38;5;124m\"\u001b[39m\u001b[38;5;124mAfter normalization (final embedding):\u001b[39m\u001b[38;5;124m\"\u001b[39m, cosine_similarity(z1, z2)\u001b[38;5;241m.\u001b[39mitem())\n\u001b[1;32m     38\u001b[0m \u001b[38;5;66;03m# Decoder (optional, as it's not part of the embedding process)\u001b[39;00m\n\u001b[0;32m---> 39\u001b[0m out1, _ \u001b[38;5;241m=\u001b[39m \u001b[43mmodel\u001b[49m\u001b[38;5;241;43m.\u001b[39;49m\u001b[43mgru_decoder\u001b[49m\u001b[43m(\u001b[49m\u001b[43mout1\u001b[49m\u001b[43m)\u001b[49m  \u001b[38;5;66;03m# Shape: (B, W_enc, 1024)\u001b[39;00m\n\u001b[1;32m     40\u001b[0m out2, _ \u001b[38;5;241m=\u001b[39m model\u001b[38;5;241m.\u001b[39mgru_decoder(out2)\n\u001b[1;32m     41\u001b[0m \u001b[38;5;28mprint\u001b[39m(\u001b[38;5;124m\"\u001b[39m\u001b[38;5;124mAfter GRU decoder:\u001b[39m\u001b[38;5;124m\"\u001b[39m, cosine_similarity(out1, out2)\u001b[38;5;241m.\u001b[39mitem())\n",
      "File \u001b[0;32m~/Documents/School/MusicInformatics/DD2470-Music-Informatics-Project/.venv/lib/python3.12/site-packages/torch/nn/modules/module.py:1553\u001b[0m, in \u001b[0;36mModule._wrapped_call_impl\u001b[0;34m(self, *args, **kwargs)\u001b[0m\n\u001b[1;32m   1551\u001b[0m     \u001b[38;5;28;01mreturn\u001b[39;00m \u001b[38;5;28mself\u001b[39m\u001b[38;5;241m.\u001b[39m_compiled_call_impl(\u001b[38;5;241m*\u001b[39margs, \u001b[38;5;241m*\u001b[39m\u001b[38;5;241m*\u001b[39mkwargs)  \u001b[38;5;66;03m# type: ignore[misc]\u001b[39;00m\n\u001b[1;32m   1552\u001b[0m \u001b[38;5;28;01melse\u001b[39;00m:\n\u001b[0;32m-> 1553\u001b[0m     \u001b[38;5;28;01mreturn\u001b[39;00m \u001b[38;5;28;43mself\u001b[39;49m\u001b[38;5;241;43m.\u001b[39;49m\u001b[43m_call_impl\u001b[49m\u001b[43m(\u001b[49m\u001b[38;5;241;43m*\u001b[39;49m\u001b[43margs\u001b[49m\u001b[43m,\u001b[49m\u001b[43m \u001b[49m\u001b[38;5;241;43m*\u001b[39;49m\u001b[38;5;241;43m*\u001b[39;49m\u001b[43mkwargs\u001b[49m\u001b[43m)\u001b[49m\n",
      "File \u001b[0;32m~/Documents/School/MusicInformatics/DD2470-Music-Informatics-Project/.venv/lib/python3.12/site-packages/torch/nn/modules/module.py:1562\u001b[0m, in \u001b[0;36mModule._call_impl\u001b[0;34m(self, *args, **kwargs)\u001b[0m\n\u001b[1;32m   1557\u001b[0m \u001b[38;5;66;03m# If we don't have any hooks, we want to skip the rest of the logic in\u001b[39;00m\n\u001b[1;32m   1558\u001b[0m \u001b[38;5;66;03m# this function, and just call forward.\u001b[39;00m\n\u001b[1;32m   1559\u001b[0m \u001b[38;5;28;01mif\u001b[39;00m \u001b[38;5;129;01mnot\u001b[39;00m (\u001b[38;5;28mself\u001b[39m\u001b[38;5;241m.\u001b[39m_backward_hooks \u001b[38;5;129;01mor\u001b[39;00m \u001b[38;5;28mself\u001b[39m\u001b[38;5;241m.\u001b[39m_backward_pre_hooks \u001b[38;5;129;01mor\u001b[39;00m \u001b[38;5;28mself\u001b[39m\u001b[38;5;241m.\u001b[39m_forward_hooks \u001b[38;5;129;01mor\u001b[39;00m \u001b[38;5;28mself\u001b[39m\u001b[38;5;241m.\u001b[39m_forward_pre_hooks\n\u001b[1;32m   1560\u001b[0m         \u001b[38;5;129;01mor\u001b[39;00m _global_backward_pre_hooks \u001b[38;5;129;01mor\u001b[39;00m _global_backward_hooks\n\u001b[1;32m   1561\u001b[0m         \u001b[38;5;129;01mor\u001b[39;00m _global_forward_hooks \u001b[38;5;129;01mor\u001b[39;00m _global_forward_pre_hooks):\n\u001b[0;32m-> 1562\u001b[0m     \u001b[38;5;28;01mreturn\u001b[39;00m \u001b[43mforward_call\u001b[49m\u001b[43m(\u001b[49m\u001b[38;5;241;43m*\u001b[39;49m\u001b[43margs\u001b[49m\u001b[43m,\u001b[49m\u001b[43m \u001b[49m\u001b[38;5;241;43m*\u001b[39;49m\u001b[38;5;241;43m*\u001b[39;49m\u001b[43mkwargs\u001b[49m\u001b[43m)\u001b[49m\n\u001b[1;32m   1564\u001b[0m \u001b[38;5;28;01mtry\u001b[39;00m:\n\u001b[1;32m   1565\u001b[0m     result \u001b[38;5;241m=\u001b[39m \u001b[38;5;28;01mNone\u001b[39;00m\n",
      "File \u001b[0;32m~/Documents/School/MusicInformatics/DD2470-Music-Informatics-Project/.venv/lib/python3.12/site-packages/torch/nn/modules/rnn.py:1137\u001b[0m, in \u001b[0;36mGRU.forward\u001b[0;34m(self, input, hx)\u001b[0m\n\u001b[1;32m   1132\u001b[0m     \u001b[38;5;28;01melse\u001b[39;00m:\n\u001b[1;32m   1133\u001b[0m         \u001b[38;5;66;03m# Each batch of the hidden state should match the input sequence that\u001b[39;00m\n\u001b[1;32m   1134\u001b[0m         \u001b[38;5;66;03m# the user believes he/she is passing in.\u001b[39;00m\n\u001b[1;32m   1135\u001b[0m         hx \u001b[38;5;241m=\u001b[39m \u001b[38;5;28mself\u001b[39m\u001b[38;5;241m.\u001b[39mpermute_hidden(hx, sorted_indices)\n\u001b[0;32m-> 1137\u001b[0m \u001b[38;5;28;43mself\u001b[39;49m\u001b[38;5;241;43m.\u001b[39;49m\u001b[43mcheck_forward_args\u001b[49m\u001b[43m(\u001b[49m\u001b[38;5;28;43minput\u001b[39;49m\u001b[43m,\u001b[49m\u001b[43m \u001b[49m\u001b[43mhx\u001b[49m\u001b[43m,\u001b[49m\u001b[43m \u001b[49m\u001b[43mbatch_sizes\u001b[49m\u001b[43m)\u001b[49m\n\u001b[1;32m   1138\u001b[0m \u001b[38;5;28;01mif\u001b[39;00m batch_sizes \u001b[38;5;129;01mis\u001b[39;00m \u001b[38;5;28;01mNone\u001b[39;00m:\n\u001b[1;32m   1139\u001b[0m     result \u001b[38;5;241m=\u001b[39m _VF\u001b[38;5;241m.\u001b[39mgru(\u001b[38;5;28minput\u001b[39m, hx, \u001b[38;5;28mself\u001b[39m\u001b[38;5;241m.\u001b[39m_flat_weights, \u001b[38;5;28mself\u001b[39m\u001b[38;5;241m.\u001b[39mbias, \u001b[38;5;28mself\u001b[39m\u001b[38;5;241m.\u001b[39mnum_layers,\n\u001b[1;32m   1140\u001b[0m                      \u001b[38;5;28mself\u001b[39m\u001b[38;5;241m.\u001b[39mdropout, \u001b[38;5;28mself\u001b[39m\u001b[38;5;241m.\u001b[39mtraining, \u001b[38;5;28mself\u001b[39m\u001b[38;5;241m.\u001b[39mbidirectional, \u001b[38;5;28mself\u001b[39m\u001b[38;5;241m.\u001b[39mbatch_first)\n",
      "File \u001b[0;32m~/Documents/School/MusicInformatics/DD2470-Music-Informatics-Project/.venv/lib/python3.12/site-packages/torch/nn/modules/rnn.py:280\u001b[0m, in \u001b[0;36mRNNBase.check_forward_args\u001b[0;34m(self, input, hidden, batch_sizes)\u001b[0m\n\u001b[1;32m    279\u001b[0m \u001b[38;5;28;01mdef\u001b[39;00m \u001b[38;5;21mcheck_forward_args\u001b[39m(\u001b[38;5;28mself\u001b[39m, \u001b[38;5;28minput\u001b[39m: Tensor, hidden: Tensor, batch_sizes: Optional[Tensor]):\n\u001b[0;32m--> 280\u001b[0m     \u001b[38;5;28;43mself\u001b[39;49m\u001b[38;5;241;43m.\u001b[39;49m\u001b[43mcheck_input\u001b[49m\u001b[43m(\u001b[49m\u001b[38;5;28;43minput\u001b[39;49m\u001b[43m,\u001b[49m\u001b[43m \u001b[49m\u001b[43mbatch_sizes\u001b[49m\u001b[43m)\u001b[49m\n\u001b[1;32m    281\u001b[0m     expected_hidden_size \u001b[38;5;241m=\u001b[39m \u001b[38;5;28mself\u001b[39m\u001b[38;5;241m.\u001b[39mget_expected_hidden_size(\u001b[38;5;28minput\u001b[39m, batch_sizes)\n\u001b[1;32m    283\u001b[0m     \u001b[38;5;28mself\u001b[39m\u001b[38;5;241m.\u001b[39mcheck_hidden_size(hidden, expected_hidden_size)\n",
      "File \u001b[0;32m~/Documents/School/MusicInformatics/DD2470-Music-Informatics-Project/.venv/lib/python3.12/site-packages/torch/nn/modules/rnn.py:246\u001b[0m, in \u001b[0;36mRNNBase.check_input\u001b[0;34m(self, input, batch_sizes)\u001b[0m\n\u001b[1;32m    243\u001b[0m     \u001b[38;5;28;01mraise\u001b[39;00m \u001b[38;5;167;01mRuntimeError\u001b[39;00m(\n\u001b[1;32m    244\u001b[0m         \u001b[38;5;124mf\u001b[39m\u001b[38;5;124m'\u001b[39m\u001b[38;5;124minput must have \u001b[39m\u001b[38;5;132;01m{\u001b[39;00mexpected_input_dim\u001b[38;5;132;01m}\u001b[39;00m\u001b[38;5;124m dimensions, got \u001b[39m\u001b[38;5;132;01m{\u001b[39;00m\u001b[38;5;28minput\u001b[39m\u001b[38;5;241m.\u001b[39mdim()\u001b[38;5;132;01m}\u001b[39;00m\u001b[38;5;124m'\u001b[39m)\n\u001b[1;32m    245\u001b[0m \u001b[38;5;28;01mif\u001b[39;00m \u001b[38;5;28mself\u001b[39m\u001b[38;5;241m.\u001b[39minput_size \u001b[38;5;241m!=\u001b[39m \u001b[38;5;28minput\u001b[39m\u001b[38;5;241m.\u001b[39msize(\u001b[38;5;241m-\u001b[39m\u001b[38;5;241m1\u001b[39m):\n\u001b[0;32m--> 246\u001b[0m     \u001b[38;5;28;01mraise\u001b[39;00m \u001b[38;5;167;01mRuntimeError\u001b[39;00m(\n\u001b[1;32m    247\u001b[0m         \u001b[38;5;124mf\u001b[39m\u001b[38;5;124m'\u001b[39m\u001b[38;5;124minput.size(-1) must be equal to input_size. Expected \u001b[39m\u001b[38;5;132;01m{\u001b[39;00m\u001b[38;5;28mself\u001b[39m\u001b[38;5;241m.\u001b[39minput_size\u001b[38;5;132;01m}\u001b[39;00m\u001b[38;5;124m, got \u001b[39m\u001b[38;5;132;01m{\u001b[39;00m\u001b[38;5;28minput\u001b[39m\u001b[38;5;241m.\u001b[39msize(\u001b[38;5;241m-\u001b[39m\u001b[38;5;241m1\u001b[39m)\u001b[38;5;132;01m}\u001b[39;00m\u001b[38;5;124m'\u001b[39m)\n",
      "\u001b[0;31mRuntimeError\u001b[0m: input.size(-1) must be equal to input_size. Expected 1, got 512"
     ]
    }
   ],
   "source": [
    "# Replicate forward pass manually and check cosine similarity for intermediate outputs\n",
    "\n",
    "def cosine_similarity(x1, x2):\n",
    "    return F.cosine_similarity(x1.flatten(), x2.flatten(), dim=0)\n",
    "\n",
    "# x shape: (B, H, W, C)\n",
    "x1 = input1\n",
    "x2 = input2\n",
    "\n",
    "# Encoder\n",
    "x1 = x1.permute(0, 3, 1, 2)  # Shape: (B, C, H, W)\n",
    "x2 = x2.permute(0, 3, 1, 2)  # Shape: (B, C, H, W)\n",
    "x1 = model.encoder(x1)        # Shape: (B, H_enc, W_enc)\n",
    "x2 = model.encoder(x2)        # Shape: (B, H_enc, W_enc)\n",
    "print(\"After encoder:\", cosine_similarity(x1, x2).item())\n",
    "\n",
    "B, H_enc, W_enc = x1.shape\n",
    "x1 = x1.permute(0, 2, 1)     # Shape: (B, W_enc, H_enc)\n",
    "x2 = x2.permute(0, 2, 1)     # Shape: (B, W_enc, H_enc)\n",
    "x1 = x1.contiguous().view(B, W_enc, -1)  # Shape: (B, W_enc, H_enc)\n",
    "x2 = x2.contiguous().view(B, W_enc, -1)  # Shape: (B, W_enc, H_enc)\n",
    "print(\"After reshape:\", cosine_similarity(x1, x2).item())\n",
    "\n",
    "# GRU Encoder\n",
    "out1, h_n1 = model.gru_encoder(x1)  # out shape: (B, W_enc, 1024), h_n shape: (num_layers * num_directions, B, 512)\n",
    "out2, h_n2 = model.gru_encoder(x2)\n",
    "print(\"After GRU encoder (out):\", cosine_similarity(out1, out2).item())\n",
    "print(\"After GRU encoder (h_n):\", cosine_similarity(h_n1, h_n2).item())\n",
    "\n",
    "z1 = h_n1[-1]  # Taking the last layer's hidden state as the latent vector, shape: (B, 512)\n",
    "z2 = h_n2[-1]\n",
    "print(\"Z before normalization:\", cosine_similarity(z1, z2).item())\n",
    "\n",
    "z1 = F.normalize(z1, p=2, dim=1)  # Normalize the latent vector\n",
    "z2 = F.normalize(z2, p=2, dim=1)\n",
    "print(\"After normalization (final embedding):\", cosine_similarity(z1, z2).item())\n",
    "\n",
    "# Decoder (optional, as it's not part of the embedding process)\n",
    "out1, _ = model.gru_decoder(out1)  # Shape: (B, W_enc, 1024)\n",
    "out2, _ = model.gru_decoder(out2)\n",
    "print(\"After GRU decoder:\", cosine_similarity(out1, out2).item())\n",
    "\n",
    "out1 = model.fc_dec(out1)\n",
    "out2 = model.fc_dec(out2)\n",
    "print(\"After fc_dec:\", cosine_similarity(out1, out2).item())\n",
    "\n",
    "x1 = model.decoder(out1.permute(0, 2, 1))  # Shape: (B, 3, H, W)\n",
    "x2 = model.decoder(out2.permute(0, 2, 1))\n",
    "print(\"After CNN decoder:\", cosine_similarity(x1, x2).item())\n",
    "\n",
    "x1 = x1.permute(0, 2, 3, 1)  # Shape: (B, H, W, C)\n",
    "x2 = x2.permute(0, 2, 3, 1)\n",
    "print(\"Final output:\", cosine_similarity(x1, x2).item())\n"
   ]
  },
  {
   "cell_type": "code",
   "execution_count": null,
   "metadata": {},
   "outputs": [],
   "source": [
    "wo_orig_mod[\"batch_norm.running_mean\"], wo_orig_mod[\"batch_norm.running_var\"]\n"
   ]
  },
  {
   "cell_type": "code",
   "execution_count": 23,
   "metadata": {},
   "outputs": [
    {
     "name": "stderr",
     "output_type": "stream",
     "text": [
      "/var/folders/5h/bc4n_w3d6pbcdc772w_c6tsc0000gn/T/ipykernel_6319/3056767249.py:1: FutureWarning: You are using `torch.load` with `weights_only=False` (the current default value), which uses the default pickle module implicitly. It is possible to construct malicious pickle data which will execute arbitrary code during unpickling (See https://github.com/pytorch/pytorch/blob/main/SECURITY.md#untrusted-models for more details). In a future release, the default value for `weights_only` will be flipped to `True`. This limits the functions that could be executed during unpickling. Arbitrary objects will no longer be allowed to be loaded via this mode unless they are explicitly allowlisted by the user via `torch.serialization.add_safe_globals`. We recommend you start setting `weights_only=True` for any use case where you don't have full control of the loaded file. Please open an issue on GitHub for any issues related to this experimental feature.\n",
      "  state_dict = torch.load(\"epoch_5.pt\", map_location=DEVICE)[\"model_state_dict\"]\n"
     ]
    }
   ],
   "source": [
    "state_dict = torch.load(\"epoch_5.pt\", map_location=DEVICE)[\"model_state_dict\"]\n",
    "wo_orig_mod = {k.replace(\"_orig_mod.\", \"\"): v for k, v in state_dict.items()}"
   ]
  },
  {
   "cell_type": "code",
   "execution_count": 24,
   "metadata": {},
   "outputs": [
    {
     "data": {
      "text/plain": [
       "odict_keys(['_orig_mod.batch_norm.weight', '_orig_mod.batch_norm.bias', '_orig_mod.batch_norm.running_mean', '_orig_mod.batch_norm.running_var', '_orig_mod.batch_norm.num_batches_tracked', '_orig_mod.encoder.conv1.weight', '_orig_mod.encoder.conv1.bias', '_orig_mod.encoder.conv2.weight', '_orig_mod.encoder.conv2.bias', '_orig_mod.encoder.conv3.weight', '_orig_mod.encoder.conv3.bias', '_orig_mod.encoder.convlast.weight', '_orig_mod.encoder.convlast.bias', '_orig_mod.gru_encoder.weight_ih_l0', '_orig_mod.gru_encoder.weight_hh_l0', '_orig_mod.gru_encoder.bias_ih_l0', '_orig_mod.gru_encoder.bias_hh_l0', '_orig_mod.gru_encoder.weight_ih_l0_reverse', '_orig_mod.gru_encoder.weight_hh_l0_reverse', '_orig_mod.gru_encoder.bias_ih_l0_reverse', '_orig_mod.gru_encoder.bias_hh_l0_reverse', '_orig_mod.gru_encoder.weight_ih_l1', '_orig_mod.gru_encoder.weight_hh_l1', '_orig_mod.gru_encoder.bias_ih_l1', '_orig_mod.gru_encoder.bias_hh_l1', '_orig_mod.gru_encoder.weight_ih_l1_reverse', '_orig_mod.gru_encoder.weight_hh_l1_reverse', '_orig_mod.gru_encoder.bias_ih_l1_reverse', '_orig_mod.gru_encoder.bias_hh_l1_reverse', '_orig_mod.gru_decoder.weight_ih_l0', '_orig_mod.gru_decoder.weight_hh_l0', '_orig_mod.gru_decoder.bias_ih_l0', '_orig_mod.gru_decoder.bias_hh_l0', '_orig_mod.gru_decoder.weight_ih_l0_reverse', '_orig_mod.gru_decoder.weight_hh_l0_reverse', '_orig_mod.gru_decoder.bias_ih_l0_reverse', '_orig_mod.gru_decoder.bias_hh_l0_reverse', '_orig_mod.gru_decoder.weight_ih_l1', '_orig_mod.gru_decoder.weight_hh_l1', '_orig_mod.gru_decoder.bias_ih_l1', '_orig_mod.gru_decoder.bias_hh_l1', '_orig_mod.gru_decoder.weight_ih_l1_reverse', '_orig_mod.gru_decoder.weight_hh_l1_reverse', '_orig_mod.gru_decoder.bias_ih_l1_reverse', '_orig_mod.gru_decoder.bias_hh_l1_reverse', '_orig_mod.fc_dec.weight', '_orig_mod.fc_dec.bias', '_orig_mod.decoder.conv1.weight', '_orig_mod.decoder.conv1.bias', '_orig_mod.decoder.conv2.weight', '_orig_mod.decoder.conv2.bias', '_orig_mod.decoder.conv3.weight', '_orig_mod.decoder.conv3.bias', '_orig_mod.decoder.convlast.weight', '_orig_mod.decoder.convlast.bias'])"
      ]
     },
     "execution_count": 24,
     "metadata": {},
     "output_type": "execute_result"
    }
   ],
   "source": [
    "state_dict.keys()"
   ]
  },
  {
   "cell_type": "code",
   "execution_count": 15,
   "metadata": {},
   "outputs": [
    {
     "name": "stderr",
     "output_type": "stream",
     "text": [
      "/var/folders/5h/bc4n_w3d6pbcdc772w_c6tsc0000gn/T/ipykernel_6319/2147037882.py:4: FutureWarning: You are using `torch.load` with `weights_only=False` (the current default value), which uses the default pickle module implicitly. It is possible to construct malicious pickle data which will execute arbitrary code during unpickling (See https://github.com/pytorch/pytorch/blob/main/SECURITY.md#untrusted-models for more details). In a future release, the default value for `weights_only` will be flipped to `True`. This limits the functions that could be executed during unpickling. Arbitrary objects will no longer be allowed to be loaded via this mode unless they are explicitly allowlisted by the user via `torch.serialization.add_safe_globals`. We recommend you start setting `weights_only=True` for any use case where you don't have full control of the loaded file. Please open an issue on GitHub for any issues related to this experimental feature.\n",
      "  state_dict = torch.load(\"step_560.pt\", map_location=DEVICE)[\"model_state_dict\"]\n"
     ]
    },
    {
     "name": "stdout",
     "output_type": "stream",
     "text": [
      "(tensor([[[[-2.1421e-02,  1.2490e-02, -3.8730e-01],\n",
      "          [-2.4051e-01, -3.7790e-01, -4.8709e-01],\n",
      "          [-2.7372e-01, -4.4416e-01, -5.8825e-01],\n",
      "          ...,\n",
      "          [-2.7992e-01, -4.0753e-01, -5.0603e-01],\n",
      "          [-2.7981e-01, -4.3660e-01, -5.6459e-01],\n",
      "          [-1.1806e-04,  7.6912e-02, -4.5826e-01]],\n",
      "\n",
      "         [[-1.4067e-01, -1.7305e-01, -5.0333e-01],\n",
      "          [-5.5233e-01, -9.0192e-01, -6.2505e-01],\n",
      "          [-5.3559e-01, -8.6621e-01, -6.3778e-01],\n",
      "          ...,\n",
      "          [-5.1352e-01, -8.3766e-01, -7.6831e-01],\n",
      "          [-5.3875e-01, -9.2243e-01, -5.7940e-01],\n",
      "          [-1.4377e-01, -1.7548e-01, -5.1291e-01]],\n",
      "\n",
      "         [[-1.4946e-01, -1.8562e-01, -4.6224e-01],\n",
      "          [-6.3752e-01, -1.0346e+00, -7.1471e-01],\n",
      "          [-6.3791e-01, -1.0296e+00, -7.6039e-01],\n",
      "          ...,\n",
      "          [-6.6915e-01, -1.0856e+00, -7.3696e-01],\n",
      "          [-6.6520e-01, -1.0835e+00, -7.2113e-01],\n",
      "          [-1.7430e-01, -2.1340e-01, -5.2969e-01]],\n",
      "\n",
      "         ...,\n",
      "\n",
      "         [[ 1.6875e-01,  3.0889e-01, -2.0460e-01],\n",
      "          [ 3.6869e-01,  3.2521e-01,  5.9417e-02],\n",
      "          [ 2.9761e-01,  3.9060e-01,  2.8111e-01],\n",
      "          ...,\n",
      "          [ 9.5833e-01,  5.3492e-01,  6.3561e-01],\n",
      "          [ 9.5126e-01,  7.3472e-01,  4.3792e-01],\n",
      "          [ 4.2520e-01,  5.7515e-01, -4.7645e-02]],\n",
      "\n",
      "         [[ 1.4802e-01,  1.5374e-01, -1.3202e-01],\n",
      "          [ 2.1844e-01,  3.1413e-01, -3.6613e-02],\n",
      "          [ 2.2207e-01,  1.6128e-01, -3.6182e-01],\n",
      "          ...,\n",
      "          [ 7.7562e-01,  1.0643e+00,  8.0701e-01],\n",
      "          [ 7.5465e-01,  6.2939e-01,  5.2093e-01],\n",
      "          [ 4.3574e-01,  5.3162e-01,  5.4348e-02]],\n",
      "\n",
      "         [[ 1.8872e-01,  3.1049e-01, -2.5355e-01],\n",
      "          [ 3.4816e-01,  4.2767e-01, -1.3546e-01],\n",
      "          [ 3.3875e-01,  3.5622e-01, -2.1019e-01],\n",
      "          ...,\n",
      "          [ 6.5605e-01,  6.2901e-01,  5.4145e-01],\n",
      "          [ 7.4875e-01,  6.2170e-01, -4.1006e-01],\n",
      "          [ 4.0835e-01,  4.9613e-01,  4.9956e-02]]]]), tensor([[ 0.1327, -0.0946, -0.2451, -0.1850, -0.1770,  0.0955, -0.0152, -0.2218,\n",
      "          0.1442, -0.2220,  0.1184, -0.0394,  0.2944, -0.1003,  0.1258, -0.0565,\n",
      "         -0.2887,  0.2848, -0.0643, -0.1328,  0.1368, -0.1632, -0.2353, -0.1290,\n",
      "          0.3013,  0.1094, -0.2065,  0.1169,  0.2534, -0.1816,  0.1857,  0.2671,\n",
      "          0.0470,  0.1987,  0.2202,  0.2208,  0.2644, -0.1337,  0.2736,  0.1825,\n",
      "         -0.1560,  0.3291,  0.1983,  0.1165,  0.2528, -0.1812,  0.1292, -0.2488,\n",
      "         -0.1971,  0.1616,  0.3610,  0.2095,  0.2370, -0.2245,  0.2495,  0.2930,\n",
      "         -0.1950, -0.2887,  0.1616, -0.1630, -0.2418,  0.2334, -0.2413, -0.1749,\n",
      "          0.0495, -0.1989, -0.2265, -0.1906, -0.2046, -0.2231, -0.3223,  0.0870,\n",
      "         -0.2014, -0.2853,  0.3186,  0.0148,  0.0718, -0.2535,  0.1264, -0.0880,\n",
      "         -0.3184, -0.0706,  0.2025, -0.2784,  0.2115, -0.2557, -0.1936, -0.2664,\n",
      "          0.0625, -0.0959, -0.2549, -0.2332, -0.1246,  0.0139, -0.2084,  0.0249,\n",
      "         -0.1100,  0.1343, -0.1715,  0.0313,  0.3065,  0.2499, -0.3294, -0.0248,\n",
      "         -0.2458,  0.3130,  0.1286,  0.0529,  0.1410,  0.1907,  0.1675,  0.2682,\n",
      "          0.0277,  0.2240, -0.0742,  0.1429,  0.2397, -0.1494, -0.3430, -0.2947,\n",
      "         -0.2539, -0.2422,  0.2292, -0.3056, -0.2718, -0.2567, -0.2751,  0.0544,\n",
      "         -0.1720,  0.0138, -0.2196, -0.3400,  0.2217,  0.1355, -0.1418,  0.2505,\n",
      "         -0.3171, -0.1195,  0.1501,  0.1722, -0.3159, -0.3438, -0.3305,  0.1768,\n",
      "          0.1590, -0.3146,  0.1572,  0.0723,  0.0884, -0.0313,  0.1888,  0.2938,\n",
      "         -0.1833,  0.2825, -0.0522, -0.2698,  0.3236,  0.1209, -0.0856,  0.2259,\n",
      "         -0.1624,  0.1114,  0.0705, -0.1836,  0.1553,  0.3439, -0.2902, -0.0152,\n",
      "         -0.3009, -0.1178,  0.3435, -0.0266,  0.3244,  0.1498, -0.1653,  0.0186,\n",
      "          0.3841,  0.2402,  0.0858, -0.1564, -0.3021,  0.2700,  0.0243,  0.2303,\n",
      "         -0.1413, -0.3498, -0.2073, -0.2766,  0.1362,  0.2573,  0.2194, -0.2986,\n",
      "         -0.0099, -0.2887,  0.1874,  0.1561,  0.0743, -0.2029,  0.3446,  0.2359,\n",
      "         -0.0458, -0.0919,  0.1517,  0.0204, -0.1407, -0.2549,  0.2332,  0.2488,\n",
      "          0.0036, -0.1256, -0.1900, -0.2024, -0.1817, -0.0035, -0.2984,  0.3352,\n",
      "         -0.0071,  0.2811, -0.1545, -0.0925,  0.1583, -0.2448, -0.0339,  0.1835,\n",
      "          0.0634, -0.0892, -0.2630, -0.3109,  0.2037, -0.3085,  0.1293,  0.1544,\n",
      "          0.1692, -0.1665,  0.1747,  0.0995, -0.3094, -0.1183, -0.2544,  0.1330,\n",
      "         -0.2142, -0.2711,  0.3139,  0.3266,  0.1271, -0.2482,  0.2841, -0.2376,\n",
      "          0.0812, -0.0630,  0.2867,  0.2254,  0.0597,  0.1757,  0.1874,  0.3211,\n",
      "          0.0117, -0.0941, -0.1663,  0.2473, -0.1147, -0.1749, -0.2395, -0.0561,\n",
      "         -0.1007,  0.3062, -0.1384, -0.2895, -0.0547, -0.2667,  0.0674, -0.0926,\n",
      "          0.1518,  0.3626,  0.2402, -0.0298, -0.0739, -0.1029,  0.0499,  0.2364,\n",
      "         -0.2693,  0.0299,  0.2478, -0.1244,  0.2631,  0.1951, -0.1348,  0.0941,\n",
      "         -0.1891,  0.2075, -0.1406, -0.3160,  0.2953,  0.2293,  0.0490, -0.1686,\n",
      "          0.1772, -0.1833, -0.0008,  0.2212,  0.3478,  0.1821,  0.2021,  0.1913,\n",
      "         -0.2162, -0.0026, -0.1322, -0.1503,  0.3197,  0.2655, -0.2267, -0.2001,\n",
      "          0.2175, -0.0819,  0.1835, -0.0903,  0.1543, -0.3030,  0.0871, -0.3385,\n",
      "          0.2971, -0.2054, -0.1223,  0.3926,  0.1487, -0.2825, -0.1800, -0.2207,\n",
      "          0.2720,  0.2242, -0.3830, -0.1590,  0.1603,  0.0633,  0.1762,  0.1566,\n",
      "          0.2454,  0.2390, -0.2598, -0.0268, -0.3203, -0.2370, -0.2632,  0.2313,\n",
      "          0.1629,  0.1875,  0.1216, -0.2200, -0.0413,  0.1807,  0.1234,  0.1663,\n",
      "          0.2068, -0.2291,  0.1834, -0.1629,  0.2241,  0.3043, -0.3243,  0.1366,\n",
      "          0.0965, -0.2396, -0.3168,  0.0877, -0.1768, -0.2741,  0.0893, -0.1592,\n",
      "         -0.0634, -0.2479, -0.2761, -0.2623,  0.2906, -0.0443, -0.2035, -0.1692,\n",
      "          0.1306, -0.0894,  0.0328,  0.0081, -0.2076,  0.0593,  0.0048, -0.3287,\n",
      "          0.2674, -0.3008,  0.2217,  0.2410, -0.0952,  0.3693,  0.3185,  0.1973,\n",
      "         -0.2492,  0.1043,  0.2547,  0.2342, -0.1400, -0.3111, -0.1754, -0.1335,\n",
      "         -0.1202, -0.0089,  0.2057,  0.2199, -0.2122,  0.1440,  0.3038, -0.0050,\n",
      "          0.1092, -0.2491, -0.3249, -0.1337, -0.0870, -0.2104, -0.2820, -0.1705,\n",
      "          0.0159,  0.3733,  0.2501,  0.0448, -0.2264, -0.0501,  0.2641,  0.2706,\n",
      "          0.2926, -0.3177,  0.1295, -0.0295, -0.2458,  0.3466, -0.2740,  0.2211,\n",
      "         -0.0632, -0.2212,  0.1338, -0.2071,  0.3357,  0.3419,  0.0980,  0.2760,\n",
      "          0.0024, -0.2161,  0.0405, -0.1173,  0.3039, -0.2673, -0.0378,  0.1120,\n",
      "         -0.2581,  0.3403,  0.3243, -0.2178,  0.2062,  0.0959,  0.1102, -0.1099,\n",
      "         -0.2357, -0.2814,  0.3653,  0.2459, -0.2405,  0.2479,  0.0655, -0.3324,\n",
      "          0.2823,  0.0855,  0.2981,  0.1947, -0.3375,  0.0409,  0.2504, -0.2036,\n",
      "         -0.1285,  0.0233,  0.2048, -0.1812, -0.0523,  0.2421, -0.1812,  0.3052,\n",
      "         -0.2141,  0.0660,  0.2203,  0.1939,  0.1442, -0.1149, -0.2167,  0.2377,\n",
      "          0.2177,  0.2526,  0.2098,  0.0411,  0.1245,  0.1100, -0.1256, -0.3354,\n",
      "         -0.3220,  0.1582, -0.0924, -0.2569,  0.1089, -0.0996,  0.1075, -0.1550,\n",
      "          0.1919,  0.3437,  0.0527, -0.1556, -0.3046, -0.1627, -0.1950, -0.2187]]))\n"
     ]
    }
   ],
   "source": [
    "from baseline_model import Song2Vec\n",
    "\n",
    "model = Song2Vec().to(DEVICE)\n",
    "state_dict = torch.load(\"step_560.pt\", map_location=DEVICE)[\"model_state_dict\"]\n",
    "wo_orig_mod = {k.replace(\"_orig_mod.\", \"\"): v for k, v in state_dict.items()}\n",
    "model.load_state_dict(wo_orig_mod)\n",
    "\n",
    "model.eval()\n",
    "\n",
    "with torch.no_grad():\n",
    "    output = model(input1)\n",
    "    print(output)"
   ]
  },
  {
   "cell_type": "code",
   "execution_count": 16,
   "metadata": {},
   "outputs": [],
   "source": [
    "import glob\n",
    "import numpy as np\n",
    "from preprocess import process_audio_file\n",
    "\n",
    "\n",
    "# Get first 100 files from fma_small\n",
    "fma_small_files = sorted(glob.glob('data/fma_small/**/*.mp3'))[:100]\n",
    "\n"
   ]
  },
  {
   "cell_type": "code",
   "execution_count": 17,
   "metadata": {},
   "outputs": [
    {
     "name": "stderr",
     "output_type": "stream",
     "text": [
      "Processing audio files: 100%|██████████| 7/7 [00:52<00:00,  7.52s/it]\n"
     ]
    }
   ],
   "source": [
    "from tqdm import tqdm\n",
    "import torch\n",
    "from torch.utils.data import DataLoader, Dataset\n",
    "\n",
    "class AudioDataset(Dataset):\n",
    "    def __init__(self, file_paths):\n",
    "        self.file_paths = file_paths\n",
    "\n",
    "    def __len__(self):\n",
    "        return len(self.file_paths)\n",
    "\n",
    "    def __getitem__(self, idx):\n",
    "        audio_array = process_audio_file(self.file_paths[idx])\n",
    "        audio_array = np.ascontiguousarray(audio_array)\n",
    "        return torch.from_numpy(audio_array).float()\n",
    "\n",
    "# Create dataset and dataloader\n",
    "dataset = AudioDataset(fma_small_files)\n",
    "batch_size = 16  # Adjust based on your GPU memory\n",
    "dataloader = DataLoader(dataset, batch_size=batch_size, shuffle=False)\n",
    "\n",
    "# Calculate mean and variance of audio arrays\n",
    "embeddings = []\n",
    "model.eval()\n",
    "with torch.no_grad():\n",
    "    for batch in tqdm(dataloader, desc=\"Processing audio files\"):\n",
    "        batch = batch.to(DEVICE)\n",
    "        batch_embeddings, _ = model.encode(batch)\n",
    "        embeddings.append(batch_embeddings.cpu().numpy())\n",
    "\n",
    "embeddings = np.vstack(embeddings)\n"
   ]
  },
  {
   "cell_type": "code",
   "execution_count": 18,
   "metadata": {},
   "outputs": [
    {
     "name": "stderr",
     "output_type": "stream",
     "text": [
      "Calculating mean:   3%|▎         | 3/100 [00:00<00:27,  3.57it/s]\n"
     ]
    },
    {
     "ename": "KeyboardInterrupt",
     "evalue": "",
     "output_type": "error",
     "traceback": [
      "\u001b[0;31m---------------------------------------------------------------------------\u001b[0m",
      "\u001b[0;31mKeyboardInterrupt\u001b[0m                         Traceback (most recent call last)",
      "Cell \u001b[0;32mIn[18], line 8\u001b[0m\n\u001b[1;32m      6\u001b[0m \u001b[38;5;66;03m# Calculate mean\u001b[39;00m\n\u001b[1;32m      7\u001b[0m \u001b[38;5;28;01mfor\u001b[39;00m file_path \u001b[38;5;129;01min\u001b[39;00m tqdm(fma_small_files, desc\u001b[38;5;241m=\u001b[39m\u001b[38;5;124m\"\u001b[39m\u001b[38;5;124mCalculating mean\u001b[39m\u001b[38;5;124m\"\u001b[39m):\n\u001b[0;32m----> 8\u001b[0m     audio \u001b[38;5;241m=\u001b[39m \u001b[43mprocess_audio_file\u001b[49m\u001b[43m(\u001b[49m\u001b[43mfile_path\u001b[49m\u001b[43m)\u001b[49m\n\u001b[1;32m      9\u001b[0m     song_mean \u001b[38;5;241m+\u001b[39m\u001b[38;5;241m=\u001b[39m np\u001b[38;5;241m.\u001b[39mmean(audio)\n\u001b[1;32m     10\u001b[0m song_mean \u001b[38;5;241m/\u001b[39m\u001b[38;5;241m=\u001b[39m num_songs\n",
      "File \u001b[0;32m~/Documents/School/MusicInformatics/DD2470-Music-Informatics-Project/preprocess.py:24\u001b[0m, in \u001b[0;36mprocess_audio_file\u001b[0;34m(file_path)\u001b[0m\n\u001b[1;32m     21\u001b[0m y, sr \u001b[38;5;241m=\u001b[39m load_audio_mono(file_path)\n\u001b[1;32m     23\u001b[0m \u001b[38;5;66;03m# Compute STFT and take magnitude\u001b[39;00m\n\u001b[0;32m---> 24\u001b[0m S_complex \u001b[38;5;241m=\u001b[39m \u001b[43mlibrosa\u001b[49m\u001b[38;5;241;43m.\u001b[39;49m\u001b[43mstft\u001b[49m\u001b[43m(\u001b[49m\u001b[43my\u001b[49m\u001b[43m)\u001b[49m\n\u001b[1;32m     25\u001b[0m S_magnitude \u001b[38;5;241m=\u001b[39m np\u001b[38;5;241m.\u001b[39mabs(S_complex)\n\u001b[1;32m     27\u001b[0m \u001b[38;5;66;03m# Compute Spectrogram (Log-amplitude)\u001b[39;00m\n",
      "File \u001b[0;32m~/Documents/School/MusicInformatics/DD2470-Music-Informatics-Project/.venv/lib/python3.12/site-packages/librosa/core/spectrum.py:387\u001b[0m, in \u001b[0;36mstft\u001b[0;34m(y, n_fft, hop_length, win_length, window, center, dtype, pad_mode, out)\u001b[0m\n\u001b[1;32m    384\u001b[0m \u001b[38;5;28;01mfor\u001b[39;00m bl_s \u001b[38;5;129;01min\u001b[39;00m \u001b[38;5;28mrange\u001b[39m(\u001b[38;5;241m0\u001b[39m, y_frames\u001b[38;5;241m.\u001b[39mshape[\u001b[38;5;241m-\u001b[39m\u001b[38;5;241m1\u001b[39m], n_columns):\n\u001b[1;32m    385\u001b[0m     bl_t \u001b[38;5;241m=\u001b[39m \u001b[38;5;28mmin\u001b[39m(bl_s \u001b[38;5;241m+\u001b[39m n_columns, y_frames\u001b[38;5;241m.\u001b[39mshape[\u001b[38;5;241m-\u001b[39m\u001b[38;5;241m1\u001b[39m])\n\u001b[0;32m--> 387\u001b[0m     stft_matrix[\u001b[38;5;241m.\u001b[39m\u001b[38;5;241m.\u001b[39m\u001b[38;5;241m.\u001b[39m, bl_s \u001b[38;5;241m+\u001b[39m off_start : bl_t \u001b[38;5;241m+\u001b[39m off_start] \u001b[38;5;241m=\u001b[39m \u001b[43mfft\u001b[49m\u001b[38;5;241;43m.\u001b[39;49m\u001b[43mrfft\u001b[49m\u001b[43m(\u001b[49m\n\u001b[1;32m    388\u001b[0m \u001b[43m        \u001b[49m\u001b[43mfft_window\u001b[49m\u001b[43m \u001b[49m\u001b[38;5;241;43m*\u001b[39;49m\u001b[43m \u001b[49m\u001b[43my_frames\u001b[49m\u001b[43m[\u001b[49m\u001b[38;5;241;43m.\u001b[39;49m\u001b[38;5;241;43m.\u001b[39;49m\u001b[38;5;241;43m.\u001b[39;49m\u001b[43m,\u001b[49m\u001b[43m \u001b[49m\u001b[43mbl_s\u001b[49m\u001b[43m:\u001b[49m\u001b[43mbl_t\u001b[49m\u001b[43m]\u001b[49m\u001b[43m,\u001b[49m\u001b[43m \u001b[49m\u001b[43maxis\u001b[49m\u001b[38;5;241;43m=\u001b[39;49m\u001b[38;5;241;43m-\u001b[39;49m\u001b[38;5;241;43m2\u001b[39;49m\n\u001b[1;32m    389\u001b[0m \u001b[43m    \u001b[49m\u001b[43m)\u001b[49m\n\u001b[1;32m    390\u001b[0m \u001b[38;5;28;01mreturn\u001b[39;00m stft_matrix\n",
      "File \u001b[0;32m~/Documents/School/MusicInformatics/DD2470-Music-Informatics-Project/.venv/lib/python3.12/site-packages/numpy/fft/_pocketfft.py:414\u001b[0m, in \u001b[0;36mrfft\u001b[0;34m(a, n, axis, norm, out)\u001b[0m\n\u001b[1;32m    412\u001b[0m \u001b[38;5;28;01mif\u001b[39;00m n \u001b[38;5;129;01mis\u001b[39;00m \u001b[38;5;28;01mNone\u001b[39;00m:\n\u001b[1;32m    413\u001b[0m     n \u001b[38;5;241m=\u001b[39m a\u001b[38;5;241m.\u001b[39mshape[axis]\n\u001b[0;32m--> 414\u001b[0m output \u001b[38;5;241m=\u001b[39m \u001b[43m_raw_fft\u001b[49m\u001b[43m(\u001b[49m\u001b[43ma\u001b[49m\u001b[43m,\u001b[49m\u001b[43m \u001b[49m\u001b[43mn\u001b[49m\u001b[43m,\u001b[49m\u001b[43m \u001b[49m\u001b[43maxis\u001b[49m\u001b[43m,\u001b[49m\u001b[43m \u001b[49m\u001b[38;5;28;43;01mTrue\u001b[39;49;00m\u001b[43m,\u001b[49m\u001b[43m \u001b[49m\u001b[38;5;28;43;01mTrue\u001b[39;49;00m\u001b[43m,\u001b[49m\u001b[43m \u001b[49m\u001b[43mnorm\u001b[49m\u001b[43m,\u001b[49m\u001b[43m \u001b[49m\u001b[43mout\u001b[49m\u001b[38;5;241;43m=\u001b[39;49m\u001b[43mout\u001b[49m\u001b[43m)\u001b[49m\n\u001b[1;32m    415\u001b[0m \u001b[38;5;28;01mreturn\u001b[39;00m output\n",
      "File \u001b[0;32m~/Documents/School/MusicInformatics/DD2470-Music-Informatics-Project/.venv/lib/python3.12/site-packages/numpy/fft/_pocketfft.py:94\u001b[0m, in \u001b[0;36m_raw_fft\u001b[0;34m(a, n, axis, is_real, is_forward, norm, out)\u001b[0m\n\u001b[1;32m     90\u001b[0m \u001b[38;5;28;01melif\u001b[39;00m ((shape \u001b[38;5;241m:=\u001b[39m \u001b[38;5;28mgetattr\u001b[39m(out, \u001b[38;5;124m\"\u001b[39m\u001b[38;5;124mshape\u001b[39m\u001b[38;5;124m\"\u001b[39m, \u001b[38;5;28;01mNone\u001b[39;00m)) \u001b[38;5;129;01mis\u001b[39;00m \u001b[38;5;129;01mnot\u001b[39;00m \u001b[38;5;28;01mNone\u001b[39;00m\n\u001b[1;32m     91\u001b[0m       \u001b[38;5;129;01mand\u001b[39;00m (\u001b[38;5;28mlen\u001b[39m(shape) \u001b[38;5;241m!=\u001b[39m a\u001b[38;5;241m.\u001b[39mndim \u001b[38;5;129;01mor\u001b[39;00m shape[axis] \u001b[38;5;241m!=\u001b[39m n_out)):\n\u001b[1;32m     92\u001b[0m     \u001b[38;5;28;01mraise\u001b[39;00m \u001b[38;5;167;01mValueError\u001b[39;00m(\u001b[38;5;124m\"\u001b[39m\u001b[38;5;124moutput array has wrong shape.\u001b[39m\u001b[38;5;124m\"\u001b[39m)\n\u001b[0;32m---> 94\u001b[0m \u001b[38;5;28;01mreturn\u001b[39;00m \u001b[43mufunc\u001b[49m\u001b[43m(\u001b[49m\u001b[43ma\u001b[49m\u001b[43m,\u001b[49m\u001b[43m \u001b[49m\u001b[43mfct\u001b[49m\u001b[43m,\u001b[49m\u001b[43m \u001b[49m\u001b[43maxes\u001b[49m\u001b[38;5;241;43m=\u001b[39;49m\u001b[43m[\u001b[49m\u001b[43m(\u001b[49m\u001b[43maxis\u001b[49m\u001b[43m,\u001b[49m\u001b[43m)\u001b[49m\u001b[43m,\u001b[49m\u001b[43m \u001b[49m\u001b[43m(\u001b[49m\u001b[43m)\u001b[49m\u001b[43m,\u001b[49m\u001b[43m \u001b[49m\u001b[43m(\u001b[49m\u001b[43maxis\u001b[49m\u001b[43m,\u001b[49m\u001b[43m)\u001b[49m\u001b[43m]\u001b[49m\u001b[43m,\u001b[49m\u001b[43m \u001b[49m\u001b[43mout\u001b[49m\u001b[38;5;241;43m=\u001b[39;49m\u001b[43mout\u001b[49m\u001b[43m)\u001b[49m\n",
      "\u001b[0;31mKeyboardInterrupt\u001b[0m: "
     ]
    }
   ],
   "source": [
    "# Calculate mean and variance of songs in the dataset\n",
    "num_songs = len(fma_small_files)\n",
    "song_mean = 0\n",
    "song_variance = 0\n",
    "\n",
    "# Calculate mean\n",
    "for file_path in tqdm(fma_small_files, desc=\"Calculating mean\"):\n",
    "    audio = process_audio_file(file_path)\n",
    "    song_mean += np.mean(audio)\n",
    "song_mean /= num_songs\n",
    "\n",
    "# Calculate variance\n",
    "for file_path in tqdm(fma_small_files, desc=\"Calculating variance\"):\n",
    "    audio = process_audio_file(file_path)\n",
    "    song_variance += (np.mean(audio) - song_mean) ** 2\n",
    "song_variance /= (num_songs - 1)\n",
    "\n",
    "print(\"Mean of songs in the dataset:\")\n",
    "print(song_mean)\n",
    "\n",
    "print(\"\\nVariance of songs in the dataset:\")\n",
    "print(song_variance)\n"
   ]
  },
  {
   "cell_type": "code",
   "execution_count": null,
   "metadata": {},
   "outputs": [],
   "source": [
    "model.batch_norm.running_mean, model.batch_norm.running_var"
   ]
  },
  {
   "cell_type": "code",
   "execution_count": null,
   "metadata": {},
   "outputs": [],
   "source": [
    "# audio_mean = np.mean(all_audio, axis=(0, 1, 2))\n",
    "# audio_variance = np.var(all_audio, axis=(0, 1, 2))\n",
    "\n",
    "# print(\"Mean of audio arrays per channel:\")\n",
    "# for i, mean in enumerate(audio_mean):\n",
    "#     print(f\"Channel {i}: {mean:.4f}\")\n",
    "\n",
    "# print(\"\\nVariance of audio arrays per channel:\")\n",
    "# for i, var in enumerate(audio_variance):\n",
    "#     print(f\"Channel {i}: {var:.4f}\")"
   ]
  },
  {
   "cell_type": "code",
   "execution_count": 19,
   "metadata": {},
   "outputs": [],
   "source": [
    "import pandas as pd\n",
    "\n",
    "from sklearn.metrics.pairwise import cosine_similarity"
   ]
  },
  {
   "cell_type": "code",
   "execution_count": 20,
   "metadata": {},
   "outputs": [
    {
     "name": "stdout",
     "output_type": "stream",
     "text": [
      "Top 5 most similar songs to data/fma_small/000/000200.mp3:\n",
      "1. Song 12: Similarity = 1.0000\n",
      "2. Song 75: Similarity = 0.9998\n",
      "3. Song 73: Similarity = 0.9998\n",
      "4. Song 32: Similarity = 0.9997\n",
      "5. Song 86: Similarity = 0.9996\n",
      "\n",
      "Top 5 least similar songs to data/fma_small/000/000200.mp3:\n",
      "1. Song 62: Similarity = -0.9938\n",
      "2. Song 61: Similarity = -0.8621\n",
      "3. Song 60: Similarity = -0.8520\n",
      "4. Song 58: Similarity = -0.8265\n",
      "5. Song 37: Similarity = -0.6531\n"
     ]
    }
   ],
   "source": [
    "# Process a single song as the query (using the first song in the list)\n",
    "query_file = fma_small_files[11]\n",
    "query_audio = process_audio_file(query_file)\n",
    "query_audio = np.ascontiguousarray(query_audio)  # Ensure contiguous memory layout\n",
    "query_tensor = torch.from_numpy(query_audio).float().unsqueeze(0).to(DEVICE)\n",
    "with torch.no_grad():\n",
    "    query_embedding, _ = model.encode(query_tensor)\n",
    "\n",
    "\n",
    "# Calculate cosine similarities\n",
    "similarities = cosine_similarity(query_embedding, embeddings)[0]\n",
    "\n",
    "# Get top 5 most similar and least similar songs\n",
    "top_5_indices = np.argsort(similarities)[-5:][::-1]\n",
    "bottom_5_indices = np.argsort(similarities)[:5]\n",
    "top_5_similarities = similarities[top_5_indices]\n",
    "bottom_5_similarities = similarities[bottom_5_indices]\n",
    "\n",
    "print(f\"Top 5 most similar songs to {query_file}:\")\n",
    "for i, (index, similarity) in enumerate(zip(top_5_indices, top_5_similarities), 1):\n",
    "    print(f\"{i}. Song {index+1}: Similarity = {similarity:.4f}\")\n",
    "\n",
    "print(f\"\\nTop 5 least similar songs to {query_file}:\")\n",
    "for i, (index, similarity) in enumerate(zip(bottom_5_indices, bottom_5_similarities), 1):\n",
    "    print(f\"{i}. Song {index+1}: Similarity = {similarity:.4f}\")"
   ]
  },
  {
   "cell_type": "code",
   "execution_count": 13,
   "metadata": {},
   "outputs": [
    {
     "data": {
      "text/plain": [
       "array([61, 60, 59, 57, 41])"
      ]
     },
     "execution_count": 13,
     "metadata": {},
     "output_type": "execute_result"
    }
   ],
   "source": [
    "bottom_5_indices"
   ]
  },
  {
   "cell_type": "code",
   "execution_count": 21,
   "metadata": {},
   "outputs": [
    {
     "data": {
      "application/vnd.jupyter.widget-view+json": {
       "model_id": "c72c20a2921a4f658a97c491718b4015",
       "version_major": 2,
       "version_minor": 0
      },
      "text/plain": [
       "VBox(children=(VBox(children=(HTML(value='<b>Query Song</b>'), HTML(value='\\n                <audio  controls=…"
      ]
     },
     "metadata": {},
     "output_type": "display_data"
    }
   ],
   "source": [
    "import ipywidgets as widgets\n",
    "from IPython.display import display, Audio\n",
    "import librosa\n",
    "\n",
    "def play_audio(file_path):\n",
    "    y, sr = librosa.load(file_path, duration=30)  # Load up to 30 seconds\n",
    "    return Audio(data=y, rate=sr)\n",
    "\n",
    "def create_audio_player(file_path, title):\n",
    "    audio = play_audio(file_path)\n",
    "    return widgets.VBox([\n",
    "        widgets.HTML(f\"<b>{title}</b>\"),\n",
    "        widgets.HTML(audio._repr_html_())\n",
    "    ])\n",
    "\n",
    "# Create audio players for query song and top 5 similar songs\n",
    "query_player = create_audio_player(query_file, \"Query Song\")\n",
    "\n",
    "top_5_players = [\n",
    "    create_audio_player(fma_small_files[index], f\"Top {i+1} Similar (Similarity: {similarity:.4f})\")\n",
    "    for i, (index, similarity) in enumerate(zip(top_5_indices, top_5_similarities))\n",
    "]\n",
    "\n",
    "# Create audio players for bottom 5 similar songs\n",
    "bottom_5_players = [\n",
    "    create_audio_player(fma_small_files[index], f\"Bottom {i+1} Similar (Similarity: {similarity:.4f})\")\n",
    "    for i, (index, similarity) in enumerate(zip(bottom_5_indices, bottom_5_similarities))\n",
    "]\n",
    "\n",
    "# Display all players\n",
    "display(widgets.VBox([\n",
    "    query_player,\n",
    "    widgets.HBox([\n",
    "        widgets.VBox([widgets.HTML(\"<b>Top 5 Most Similar</b>\")] + top_5_players),\n",
    "        widgets.VBox([widgets.HTML(\"<b>Bottom 5 Least Similar</b>\")] + bottom_5_players)\n",
    "    ])\n",
    "]))\n"
   ]
  },
  {
   "cell_type": "code",
   "execution_count": null,
   "metadata": {},
   "outputs": [],
   "source": []
  }
 ],
 "metadata": {
  "kernelspec": {
   "display_name": ".venv",
   "language": "python",
   "name": "python3"
  },
  "language_info": {
   "codemirror_mode": {
    "name": "ipython",
    "version": 3
   },
   "file_extension": ".py",
   "mimetype": "text/x-python",
   "name": "python",
   "nbconvert_exporter": "python",
   "pygments_lexer": "ipython3",
   "version": "3.12.7"
  }
 },
 "nbformat": 4,
 "nbformat_minor": 2
}
