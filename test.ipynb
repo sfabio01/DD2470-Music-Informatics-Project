{
 "cells": [
  {
   "cell_type": "code",
   "execution_count": 1,
   "metadata": {},
   "outputs": [
    {
     "name": "stdout",
     "output_type": "stream",
     "text": [
      "Are embeddings equal? False\n",
      "Embedding cosine similarity: tensor([0.9694], device='cuda:0', grad_fn=<SumBackward1>)\n"
     ]
    }
   ],
   "source": [
    "import torch\n",
    "import torch.nn.functional as F\n",
    "\n",
    "from model import Song2Vec\n",
    "\n",
    "input_shape = (1024, 2048, 3)\n",
    "DEVICE = torch.device(\"cuda\" if torch.cuda.is_available() else \"cpu\")\n",
    "\n",
    "model = Song2Vec().to(DEVICE)\n",
    "\n",
    "# Generate two random inputs\n",
    "input1 = torch.randn(1, *input_shape).to(DEVICE)\n",
    "input2 = torch.randn(1, *input_shape).to(DEVICE)\n",
    "\n",
    "# Get embeddings\n",
    "_, embed1 = model.encode(input1)\n",
    "_, embed2 = model.encode(input2)\n",
    "\n",
    "# Compare embeddings\n",
    "print(\"Are embeddings equal?\", torch.allclose(embed1, embed2))\n",
    "print(\"Embedding cosine similarity:\", F.cosine_similarity(embed1, embed2))\n"
   ]
  },
  {
   "cell_type": "code",
   "execution_count": null,
   "metadata": {},
   "outputs": [],
   "source": [
    "# Replicate forward pass manually and check cosine similarity for intermediate outputs\n",
    "\n",
    "def cosine_similarity(x1, x2):\n",
    "    return F.cosine_similarity(x1.flatten(), x2.flatten(), dim=0)\n",
    "\n",
    "x1 = input1.permute(0, 3, 2, 1)\n",
    "x2 = input2.permute(0, 3, 2, 1)\n",
    "\n",
    "# Encoder\n",
    "x1 = model.encoder(x1)\n",
    "x2 = model.encoder(x2)\n",
    "print(\"After encoder:\", cosine_similarity(x1, x2).item())\n",
    "\n",
    "# Positional encoding\n",
    "B, L, D = x1.shape\n",
    "pos = model.w_pe(torch.arange(L, device=DEVICE)).unsqueeze(0).expand(B, -1, -1) * 0.01\n",
    "context1 = x1 + pos\n",
    "context2 = x2 + pos\n",
    "print(\"After positional encoding:\", cosine_similarity(context1, context2).item())\n",
    "\n",
    "# Add query vector and apply transformer encoder\n",
    "context_w_query1 = torch.cat([context1, model.query_vector.expand(B, -1, -1)], dim=1)\n",
    "context_w_query2 = torch.cat([context2, model.query_vector.expand(B, -1, -1)], dim=1)\n",
    "context_w_query1 = model.transformer_encoder(context_w_query1)\n",
    "context_w_query2 = model.transformer_encoder(context_w_query2)\n",
    "print(\"After transformer encoder:\", cosine_similarity(context_w_query1, context_w_query2).item())\n",
    "\n",
    "# Separate context and z\n",
    "context1 = context_w_query1[:, :-1, :]\n",
    "context2 = context_w_query2[:, :-1, :]\n",
    "z1 = context_w_query1[:, -1, :]\n",
    "z2 = context_w_query2[:, -1, :]\n",
    "print(\"Context after separation:\", cosine_similarity(context1, context2).item())\n",
    "print(\"Z after separation:\", cosine_similarity(z1, z2).item())\n",
    "\n",
    "# Normalize z\n",
    "z1 = F.normalize(z1.squeeze(1), p=2, dim=1)\n",
    "z2 = F.normalize(z2.squeeze(1), p=2, dim=1)\n",
    "print(\"After normalization (final embedding):\", cosine_similarity(z1, z2).item())\n",
    "\n",
    "# Decoder (optional, as it's not part of the embedding process)\n",
    "x1 = model.transformer_decoder(context1)\n",
    "x2 = model.transformer_decoder(context2)\n",
    "print(\"After transformer decoder:\", cosine_similarity(x1, x2).item())\n",
    "\n",
    "x1 = model.decoder(x1)\n",
    "x2 = model.decoder(x2)\n",
    "print(\"After CNN decoder:\", cosine_similarity(x1, x2).item())\n",
    "\n",
    "x1 = x1.permute(0, 3, 2, 1)\n",
    "x2 = x2.permute(0, 3, 2, 1)\n",
    "print(\"Final output:\", cosine_similarity(x1, x2).item())\n"
   ]
  },
  {
   "cell_type": "code",
   "execution_count": 4,
   "metadata": {},
   "outputs": [],
   "source": [
    "from baseline_model import Song2Vec\n",
    "\n",
    "model = Song2Vec().to(DEVICE)\n",
    "\n",
    "# Generate two random inputs\n",
    "input1 = torch.randn(1, *input_shape).to(DEVICE)\n",
    "input2 = torch.randn(1, *input_shape).to(DEVICE)\n"
   ]
  },
  {
   "cell_type": "code",
   "execution_count": 2,
   "metadata": {},
   "outputs": [
    {
     "name": "stdout",
     "output_type": "stream",
     "text": [
      "After encoder: 0.9331904649734497\n",
      "After reshape: 0.9331903457641602\n"
     ]
    },
    {
     "ename": "AttributeError",
     "evalue": "'Song2Vec' object has no attribute 'gru_encoder'",
     "output_type": "error",
     "traceback": [
      "\u001b[0;31m---------------------------------------------------------------------------\u001b[0m",
      "\u001b[0;31mAttributeError\u001b[0m                            Traceback (most recent call last)",
      "Cell \u001b[0;32mIn[2], line 25\u001b[0m\n\u001b[1;32m     22\u001b[0m \u001b[38;5;28mprint\u001b[39m(\u001b[38;5;124m\"\u001b[39m\u001b[38;5;124mAfter reshape:\u001b[39m\u001b[38;5;124m\"\u001b[39m, cosine_similarity(x1, x2)\u001b[38;5;241m.\u001b[39mitem())\n\u001b[1;32m     24\u001b[0m \u001b[38;5;66;03m# GRU Encoder\u001b[39;00m\n\u001b[0;32m---> 25\u001b[0m out1, h_n1 \u001b[38;5;241m=\u001b[39m \u001b[43mmodel\u001b[49m\u001b[38;5;241;43m.\u001b[39;49m\u001b[43mgru_encoder\u001b[49m(x1)  \u001b[38;5;66;03m# out shape: (B, W_enc, 1024), h_n shape: (num_layers * num_directions, B, 512)\u001b[39;00m\n\u001b[1;32m     26\u001b[0m out2, h_n2 \u001b[38;5;241m=\u001b[39m model\u001b[38;5;241m.\u001b[39mgru_encoder(x2)\n\u001b[1;32m     27\u001b[0m \u001b[38;5;28mprint\u001b[39m(\u001b[38;5;124m\"\u001b[39m\u001b[38;5;124mAfter GRU encoder (out):\u001b[39m\u001b[38;5;124m\"\u001b[39m, cosine_similarity(out1, out2)\u001b[38;5;241m.\u001b[39mitem())\n",
      "File \u001b[0;32m~/School/DD2470-Music-Informatics-Project/.venv/lib/python3.12/site-packages/torch/nn/modules/module.py:1729\u001b[0m, in \u001b[0;36mModule.__getattr__\u001b[0;34m(self, name)\u001b[0m\n\u001b[1;32m   1727\u001b[0m     \u001b[38;5;28;01mif\u001b[39;00m name \u001b[38;5;129;01min\u001b[39;00m modules:\n\u001b[1;32m   1728\u001b[0m         \u001b[38;5;28;01mreturn\u001b[39;00m modules[name]\n\u001b[0;32m-> 1729\u001b[0m \u001b[38;5;28;01mraise\u001b[39;00m \u001b[38;5;167;01mAttributeError\u001b[39;00m(\u001b[38;5;124mf\u001b[39m\u001b[38;5;124m\"\u001b[39m\u001b[38;5;124m'\u001b[39m\u001b[38;5;132;01m{\u001b[39;00m\u001b[38;5;28mtype\u001b[39m(\u001b[38;5;28mself\u001b[39m)\u001b[38;5;241m.\u001b[39m\u001b[38;5;18m__name__\u001b[39m\u001b[38;5;132;01m}\u001b[39;00m\u001b[38;5;124m'\u001b[39m\u001b[38;5;124m object has no attribute \u001b[39m\u001b[38;5;124m'\u001b[39m\u001b[38;5;132;01m{\u001b[39;00mname\u001b[38;5;132;01m}\u001b[39;00m\u001b[38;5;124m'\u001b[39m\u001b[38;5;124m\"\u001b[39m)\n",
      "\u001b[0;31mAttributeError\u001b[0m: 'Song2Vec' object has no attribute 'gru_encoder'"
     ]
    }
   ],
   "source": [
    "# Replicate forward pass manually and check cosine similarity for intermediate outputs\n",
    "\n",
    "def cosine_similarity(x1, x2):\n",
    "    return F.cosine_similarity(x1.flatten(), x2.flatten(), dim=0)\n",
    "\n",
    "# x shape: (B, H, W, C)\n",
    "x1 = input1\n",
    "x2 = input2\n",
    "\n",
    "# Encoder\n",
    "x1 = x1.permute(0, 3, 1, 2)  # Shape: (B, C, H, W)\n",
    "x2 = x2.permute(0, 3, 1, 2)  # Shape: (B, C, H, W)\n",
    "x1 = model.encoder(x1)        # Shape: (B, H_enc, W_enc)\n",
    "x2 = model.encoder(x2)        # Shape: (B, H_enc, W_enc)\n",
    "print(\"After encoder:\", cosine_similarity(x1, x2).item())\n",
    "\n",
    "B, H_enc, W_enc = x1.shape\n",
    "x1 = x1.permute(0, 2, 1)     # Shape: (B, W_enc, H_enc)\n",
    "x2 = x2.permute(0, 2, 1)     # Shape: (B, W_enc, H_enc)\n",
    "x1 = x1.contiguous().view(B, W_enc, -1)  # Shape: (B, W_enc, H_enc)\n",
    "x2 = x2.contiguous().view(B, W_enc, -1)  # Shape: (B, W_enc, H_enc)\n",
    "print(\"After reshape:\", cosine_similarity(x1, x2).item())\n",
    "\n",
    "# GRU Encoder\n",
    "out1, h_n1 = model.gru_encoder(x1)  # out shape: (B, W_enc, 1024), h_n shape: (num_layers * num_directions, B, 512)\n",
    "out2, h_n2 = model.gru_encoder(x2)\n",
    "print(\"After GRU encoder (out):\", cosine_similarity(out1, out2).item())\n",
    "print(\"After GRU encoder (h_n):\", cosine_similarity(h_n1, h_n2).item())\n",
    "\n",
    "z1 = h_n1[-1]  # Taking the last layer's hidden state as the latent vector, shape: (B, 512)\n",
    "z2 = h_n2[-1]\n",
    "print(\"Z before normalization:\", cosine_similarity(z1, z2).item())\n",
    "\n",
    "z1 = F.normalize(z1, p=2, dim=1)  # Normalize the latent vector\n",
    "z2 = F.normalize(z2, p=2, dim=1)\n",
    "print(\"After normalization (final embedding):\", cosine_similarity(z1, z2).item())\n",
    "\n",
    "# Decoder (optional, as it's not part of the embedding process)\n",
    "out1, _ = model.gru_decoder(out1)  # Shape: (B, W_enc, 1024)\n",
    "out2, _ = model.gru_decoder(out2)\n",
    "print(\"After GRU decoder:\", cosine_similarity(out1, out2).item())\n",
    "\n",
    "out1 = model.fc_dec(out1)\n",
    "out2 = model.fc_dec(out2)\n",
    "print(\"After fc_dec:\", cosine_similarity(out1, out2).item())\n",
    "\n",
    "x1 = model.decoder(out1.permute(0, 2, 1))  # Shape: (B, 3, H, W)\n",
    "x2 = model.decoder(out2.permute(0, 2, 1))\n",
    "print(\"After CNN decoder:\", cosine_similarity(x1, x2).item())\n",
    "\n",
    "x1 = x1.permute(0, 2, 3, 1)  # Shape: (B, H, W, C)\n",
    "x2 = x2.permute(0, 2, 3, 1)\n",
    "print(\"Final output:\", cosine_similarity(x1, x2).item())\n"
   ]
  },
  {
   "cell_type": "code",
   "execution_count": 9,
   "metadata": {},
   "outputs": [
    {
     "data": {
      "text/plain": [
       "(tensor([-18.2629,   0.6244,   0.1782], device='cuda:0'),\n",
       " tensor([17.5452,  0.2233,  0.2252], device='cuda:0'))"
      ]
     },
     "execution_count": 9,
     "metadata": {},
     "output_type": "execute_result"
    }
   ],
   "source": [
    "wo_orig_mod[\"batch_norm.running_mean\"], wo_orig_mod[\"batch_norm.running_var\"]\n"
   ]
  },
  {
   "cell_type": "code",
   "execution_count": 3,
   "metadata": {},
   "outputs": [
    {
     "name": "stderr",
     "output_type": "stream",
     "text": [
      "/tmp/ipykernel_703301/1398021531.py:4: FutureWarning: You are using `torch.load` with `weights_only=False` (the current default value), which uses the default pickle module implicitly. It is possible to construct malicious pickle data which will execute arbitrary code during unpickling (See https://github.com/pytorch/pytorch/blob/main/SECURITY.md#untrusted-models for more details). In a future release, the default value for `weights_only` will be flipped to `True`. This limits the functions that could be executed during unpickling. Arbitrary objects will no longer be allowed to be loaded via this mode unless they are explicitly allowlisted by the user via `torch.serialization.add_safe_globals`. We recommend you start setting `weights_only=True` for any use case where you don't have full control of the loaded file. Please open an issue on GitHub for any issues related to this experimental feature.\n",
      "  state_dict = torch.load(\"epoch_5(1).pt\")[\"model_state_dict\"]\n"
     ]
    },
    {
     "ename": "RuntimeError",
     "evalue": "Error(s) in loading state_dict for Song2Vec:\n\tUnexpected key(s) in state_dict: \"batch_norm.weight\", \"batch_norm.bias\", \"batch_norm.running_mean\", \"batch_norm.running_var\", \"batch_norm.num_batches_tracked\". ",
     "output_type": "error",
     "traceback": [
      "\u001b[0;31m---------------------------------------------------------------------------\u001b[0m",
      "\u001b[0;31mRuntimeError\u001b[0m                              Traceback (most recent call last)",
      "Cell \u001b[0;32mIn[3], line 6\u001b[0m\n\u001b[1;32m      4\u001b[0m state_dict \u001b[38;5;241m=\u001b[39m torch\u001b[38;5;241m.\u001b[39mload(\u001b[38;5;124m\"\u001b[39m\u001b[38;5;124mepoch_5(1).pt\u001b[39m\u001b[38;5;124m\"\u001b[39m)[\u001b[38;5;124m\"\u001b[39m\u001b[38;5;124mmodel_state_dict\u001b[39m\u001b[38;5;124m\"\u001b[39m]\n\u001b[1;32m      5\u001b[0m wo_orig_mod \u001b[38;5;241m=\u001b[39m {k\u001b[38;5;241m.\u001b[39mreplace(\u001b[38;5;124m\"\u001b[39m\u001b[38;5;124m_orig_mod.\u001b[39m\u001b[38;5;124m\"\u001b[39m, \u001b[38;5;124m\"\u001b[39m\u001b[38;5;124m\"\u001b[39m): v \u001b[38;5;28;01mfor\u001b[39;00m k, v \u001b[38;5;129;01min\u001b[39;00m state_dict\u001b[38;5;241m.\u001b[39mitems()}\n\u001b[0;32m----> 6\u001b[0m \u001b[43mmodel\u001b[49m\u001b[38;5;241;43m.\u001b[39;49m\u001b[43mload_state_dict\u001b[49m\u001b[43m(\u001b[49m\u001b[43mwo_orig_mod\u001b[49m\u001b[43m)\u001b[49m\n\u001b[1;32m      8\u001b[0m model\u001b[38;5;241m.\u001b[39meval()\n\u001b[1;32m     10\u001b[0m \u001b[38;5;28;01mwith\u001b[39;00m torch\u001b[38;5;241m.\u001b[39mno_grad():\n",
      "File \u001b[0;32m~/School/DD2470-Music-Informatics-Project/.venv/lib/python3.12/site-packages/torch/nn/modules/module.py:2215\u001b[0m, in \u001b[0;36mModule.load_state_dict\u001b[0;34m(self, state_dict, strict, assign)\u001b[0m\n\u001b[1;32m   2210\u001b[0m         error_msgs\u001b[38;5;241m.\u001b[39minsert(\n\u001b[1;32m   2211\u001b[0m             \u001b[38;5;241m0\u001b[39m, \u001b[38;5;124m'\u001b[39m\u001b[38;5;124mMissing key(s) in state_dict: \u001b[39m\u001b[38;5;132;01m{}\u001b[39;00m\u001b[38;5;124m. \u001b[39m\u001b[38;5;124m'\u001b[39m\u001b[38;5;241m.\u001b[39mformat(\n\u001b[1;32m   2212\u001b[0m                 \u001b[38;5;124m'\u001b[39m\u001b[38;5;124m, \u001b[39m\u001b[38;5;124m'\u001b[39m\u001b[38;5;241m.\u001b[39mjoin(\u001b[38;5;124mf\u001b[39m\u001b[38;5;124m'\u001b[39m\u001b[38;5;124m\"\u001b[39m\u001b[38;5;132;01m{\u001b[39;00mk\u001b[38;5;132;01m}\u001b[39;00m\u001b[38;5;124m\"\u001b[39m\u001b[38;5;124m'\u001b[39m \u001b[38;5;28;01mfor\u001b[39;00m k \u001b[38;5;129;01min\u001b[39;00m missing_keys)))\n\u001b[1;32m   2214\u001b[0m \u001b[38;5;28;01mif\u001b[39;00m \u001b[38;5;28mlen\u001b[39m(error_msgs) \u001b[38;5;241m>\u001b[39m \u001b[38;5;241m0\u001b[39m:\n\u001b[0;32m-> 2215\u001b[0m     \u001b[38;5;28;01mraise\u001b[39;00m \u001b[38;5;167;01mRuntimeError\u001b[39;00m(\u001b[38;5;124m'\u001b[39m\u001b[38;5;124mError(s) in loading state_dict for \u001b[39m\u001b[38;5;132;01m{}\u001b[39;00m\u001b[38;5;124m:\u001b[39m\u001b[38;5;130;01m\\n\u001b[39;00m\u001b[38;5;130;01m\\t\u001b[39;00m\u001b[38;5;132;01m{}\u001b[39;00m\u001b[38;5;124m'\u001b[39m\u001b[38;5;241m.\u001b[39mformat(\n\u001b[1;32m   2216\u001b[0m                        \u001b[38;5;28mself\u001b[39m\u001b[38;5;241m.\u001b[39m\u001b[38;5;18m__class__\u001b[39m\u001b[38;5;241m.\u001b[39m\u001b[38;5;18m__name__\u001b[39m, \u001b[38;5;124m\"\u001b[39m\u001b[38;5;130;01m\\n\u001b[39;00m\u001b[38;5;130;01m\\t\u001b[39;00m\u001b[38;5;124m\"\u001b[39m\u001b[38;5;241m.\u001b[39mjoin(error_msgs)))\n\u001b[1;32m   2217\u001b[0m \u001b[38;5;28;01mreturn\u001b[39;00m _IncompatibleKeys(missing_keys, unexpected_keys)\n",
      "\u001b[0;31mRuntimeError\u001b[0m: Error(s) in loading state_dict for Song2Vec:\n\tUnexpected key(s) in state_dict: \"batch_norm.weight\", \"batch_norm.bias\", \"batch_norm.running_mean\", \"batch_norm.running_var\", \"batch_norm.num_batches_tracked\". "
     ]
    }
   ],
   "source": [
    "from baseline_model import Song2Vec\n",
    "\n",
    "model = Song2Vec().to(DEVICE)\n",
    "state_dict = torch.load(\"epoch_5(1).pt\")[\"model_state_dict\"]\n",
    "wo_orig_mod = {k.replace(\"_orig_mod.\", \"\"): v for k, v in state_dict.items()}\n",
    "model.load_state_dict(wo_orig_mod)\n",
    "\n",
    "model.eval()\n",
    "\n",
    "with torch.no_grad():\n",
    "    output = model(input1)\n",
    "    print(output)"
   ]
  },
  {
   "cell_type": "code",
   "execution_count": 36,
   "metadata": {},
   "outputs": [],
   "source": [
    "import glob\n",
    "import numpy as np\n",
    "from preprocess import process_audio_file\n",
    "from sklearn.metrics.pairwise import cosine_similarity\n",
    "\n",
    "# Get first 100 files from fma_small\n",
    "fma_small_files = sorted(glob.glob('fma_small/**/*.mp3'))\n",
    "\n"
   ]
  },
  {
   "cell_type": "code",
   "execution_count": null,
   "metadata": {},
   "outputs": [],
   "source": [
    "from tqdm import tqdm\n",
    "import torch\n",
    "from torch.utils.data import DataLoader, Dataset\n",
    "\n",
    "class AudioDataset(Dataset):\n",
    "    def __init__(self, file_paths):\n",
    "        self.file_paths = file_paths\n",
    "\n",
    "    def __len__(self):\n",
    "        return len(self.file_paths)\n",
    "\n",
    "    def __getitem__(self, idx):\n",
    "        audio_array = process_audio_file(self.file_paths[idx])\n",
    "        audio_array = np.ascontiguousarray(audio_array)\n",
    "        return torch.from_numpy(audio_array).float()\n",
    "\n",
    "# Create dataset and dataloader\n",
    "dataset = AudioDataset(fma_small_files)\n",
    "batch_size = 16  # Adjust based on your GPU memory\n",
    "dataloader = DataLoader(dataset, batch_size=batch_size, shuffle=False)\n",
    "\n",
    "# Calculate mean and variance of audio arrays\n",
    "embeddings = []\n",
    "model.eval()\n",
    "with torch.no_grad():\n",
    "    for batch in tqdm(dataloader, desc=\"Processing audio files\"):\n",
    "        batch = batch.to(DEVICE)\n",
    "        _, batch_embeddings = model.encode(batch)\n",
    "        embeddings.append(batch_embeddings.cpu().numpy())\n",
    "\n",
    "embeddings = np.vstack(embeddings)\n"
   ]
  },
  {
   "cell_type": "code",
   "execution_count": null,
   "metadata": {},
   "outputs": [],
   "source": [
    "# Calculate mean and variance of songs in the dataset\n",
    "num_songs = len(fma_small_files)\n",
    "song_mean = 0\n",
    "song_variance = 0\n",
    "\n",
    "# Calculate mean\n",
    "for file_path in tqdm(fma_small_files, desc=\"Calculating mean\"):\n",
    "    audio = process_audio_file(file_path)\n",
    "    song_mean += np.mean(audio)\n",
    "song_mean /= num_songs\n",
    "\n",
    "# Calculate variance\n",
    "for file_path in tqdm(fma_small_files, desc=\"Calculating variance\"):\n",
    "    audio = process_audio_file(file_path)\n",
    "    song_variance += (np.mean(audio) - song_mean) ** 2\n",
    "song_variance /= (num_songs - 1)\n",
    "\n",
    "print(\"Mean of songs in the dataset:\")\n",
    "print(song_mean)\n",
    "\n",
    "print(\"\\nVariance of songs in the dataset:\")\n",
    "print(song_variance)\n"
   ]
  },
  {
   "cell_type": "code",
   "execution_count": null,
   "metadata": {},
   "outputs": [],
   "source": [
    "model.batch_norm.running_mean, model.batch_norm.running_var"
   ]
  },
  {
   "cell_type": "code",
   "execution_count": null,
   "metadata": {},
   "outputs": [],
   "source": [
    "# audio_mean = np.mean(all_audio, axis=(0, 1, 2))\n",
    "# audio_variance = np.var(all_audio, axis=(0, 1, 2))\n",
    "\n",
    "# print(\"Mean of audio arrays per channel:\")\n",
    "# for i, mean in enumerate(audio_mean):\n",
    "#     print(f\"Channel {i}: {mean:.4f}\")\n",
    "\n",
    "# print(\"\\nVariance of audio arrays per channel:\")\n",
    "# for i, var in enumerate(audio_variance):\n",
    "#     print(f\"Channel {i}: {var:.4f}\")"
   ]
  },
  {
   "cell_type": "code",
   "execution_count": null,
   "metadata": {},
   "outputs": [],
   "source": [
    "# Process a single song as the query (using the first song in the list)\n",
    "query_file = fma_small_files[891]\n",
    "query_audio = process_audio_file(query_file)\n",
    "query_audio = np.ascontiguousarray(query_audio)  # Ensure contiguous memory layout\n",
    "query_tensor = torch.from_numpy(query_audio).float().unsqueeze(0).to(DEVICE)\n",
    "with torch.no_grad():\n",
    "    _, query_embedding = model.encode(query_tensor)\n",
    "query_embedding = query_embedding.cpu().numpy()\n",
    "\n",
    "# Calculate cosine similarities\n",
    "similarities = cosine_similarity(query_embedding, embeddings)[0]\n",
    "\n",
    "# Get top 5 most similar and least similar songs\n",
    "top_5_indices = np.argsort(similarities)[-5:][::-1]\n",
    "bottom_5_indices = np.argsort(similarities)[:5]\n",
    "top_5_similarities = similarities[top_5_indices]\n",
    "bottom_5_similarities = similarities[bottom_5_indices]\n",
    "\n",
    "print(f\"Top 5 most similar songs to {query_file}:\")\n",
    "for i, (index, similarity) in enumerate(zip(top_5_indices, top_5_similarities), 1):\n",
    "    print(f\"{i}. Song {index+1}: Similarity = {similarity:.4f}\")\n",
    "\n",
    "print(f\"\\nTop 5 least similar songs to {query_file}:\")\n",
    "for i, (index, similarity) in enumerate(zip(bottom_5_indices, bottom_5_similarities), 1):\n",
    "    print(f\"{i}. Song {index+1}: Similarity = {similarity:.4f}\")"
   ]
  },
  {
   "cell_type": "code",
   "execution_count": null,
   "metadata": {},
   "outputs": [],
   "source": [
    "import ipywidgets as widgets\n",
    "from IPython.display import display, Audio\n",
    "import librosa\n",
    "\n",
    "def play_audio(file_path):\n",
    "    y, sr = librosa.load(file_path, duration=30)  # Load up to 30 seconds\n",
    "    return Audio(data=y, rate=sr)\n",
    "\n",
    "def create_audio_player(file_path, title):\n",
    "    audio = play_audio(file_path)\n",
    "    return widgets.VBox([\n",
    "        widgets.HTML(f\"<b>{title}</b>\"),\n",
    "        widgets.HTML(audio._repr_html_())\n",
    "    ])\n",
    "\n",
    "# Create audio players for query song and top 5 similar songs\n",
    "query_player = create_audio_player(query_file, \"Query Song\")\n",
    "\n",
    "top_5_players = [\n",
    "    create_audio_player(fma_small_files[index], f\"Top {i+1} Similar (Similarity: {similarity:.4f})\")\n",
    "    for i, (index, similarity) in enumerate(zip(top_5_indices, top_5_similarities))\n",
    "]\n",
    "\n",
    "# Create audio players for bottom 5 similar songs\n",
    "bottom_5_players = [\n",
    "    create_audio_player(fma_small_files[index], f\"Bottom {i+1} Similar (Similarity: {similarity:.4f})\")\n",
    "    for i, (index, similarity) in enumerate(zip(bottom_5_indices, bottom_5_similarities))\n",
    "]\n",
    "\n",
    "# Display all players\n",
    "display(widgets.VBox([\n",
    "    query_player,\n",
    "    widgets.HBox([\n",
    "        widgets.VBox([widgets.HTML(\"<b>Top 5 Most Similar</b>\")] + top_5_players),\n",
    "        widgets.VBox([widgets.HTML(\"<b>Bottom 5 Least Similar</b>\")] + bottom_5_players)\n",
    "    ])\n",
    "]))\n"
   ]
  },
  {
   "cell_type": "code",
   "execution_count": null,
   "metadata": {},
   "outputs": [],
   "source": []
  }
 ],
 "metadata": {
  "kernelspec": {
   "display_name": ".venv",
   "language": "python",
   "name": "python3"
  },
  "language_info": {
   "codemirror_mode": {
    "name": "ipython",
    "version": 3
   },
   "file_extension": ".py",
   "mimetype": "text/x-python",
   "name": "python",
   "nbconvert_exporter": "python",
   "pygments_lexer": "ipython3",
   "version": "3.12.7"
  }
 },
 "nbformat": 4,
 "nbformat_minor": 2
}
